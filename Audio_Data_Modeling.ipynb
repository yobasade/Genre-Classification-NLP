{
 "cells": [
  {
   "cell_type": "markdown",
   "metadata": {},
   "source": [
    "## Project Overview \n",
    "\n",
    "This project aims to create two machine learning classifiers that predicts the genre of a song after inputting lyrics as well as by using the audio qualities. This project will use datasets from Kaggle and data scraped from genius.com.\n",
    "\n",
    "Problem statement: Can we build a model that uses various lyrics and audio attributes to accurately predict the genre of a song?\n",
    "\n",
    "Prompt: You are working on a team that's developing an app that takes song lyrics and audio attributes to predict the song name and artist. It is your responsibility to model the portion of the Machine Learning app that takes in song lyrics and predicts the possible genre the lyrics are in.\n"
   ]
  },
  {
   "cell_type": "markdown",
   "metadata": {},
   "source": [
    "This notebook will explore and clean our audio quality data. We will look at how these features affect the outcome of our genre classifications. "
   ]
  },
  {
   "cell_type": "markdown",
   "metadata": {},
   "source": [
    "## Data Exploration and EDA"
   ]
  },
  {
   "cell_type": "markdown",
   "metadata": {},
   "source": [
    "We will begin by reading in and cleaning up our 'tracks' and 'genre' datasets."
   ]
  },
  {
   "cell_type": "code",
   "execution_count": 43,
   "metadata": {},
   "outputs": [],
   "source": [
    "import pandas as pd\n",
    "import re\n",
    "import seaborn as sns\n",
    "import numpy as np\n",
    "import matplotlib.pyplot as plt\n",
    "import collections\n",
    "import itertools\n",
    "import string\n",
    "import pickle\n",
    "%matplotlib inline\n",
    "\n",
    "\n",
    "from sklearn.model_selection import RepeatedStratifiedKFold\n",
    "from sklearn.model_selection import KFold\n",
    "from sklearn.linear_model import LogisticRegression\n",
    "from sklearn.ensemble import BaggingClassifier\n",
    "from sklearn.preprocessing import LabelEncoder\n",
    "from collections import Counter\n",
    "from pprint import pprint\n",
    "from sklearn.model_selection import train_test_split, GridSearchCV, cross_val_score\n",
    "from sklearn.linear_model import LogisticRegression\n",
    "from sklearn.metrics import confusion_matrix, classification_report, accuracy_score\n",
    "from sklearn.pipeline import make_pipeline, Pipeline\n",
    "from sklearn.preprocessing import StandardScaler\n",
    "from sklearn.svm import SVC, LinearSVC\n",
    "from sklearn.ensemble import RandomForestClassifier, AdaBoostClassifier, VotingClassifier\n",
    "from sklearn.model_selection import cross_val_predict\n",
    "from sklearn.tree import DecisionTreeClassifier\n",
    "from sklearn.metrics import plot_confusion_matrix\n",
    "from sklearn.feature_extraction.text import TfidfVectorizer\n",
    "from gensim.models import Word2Vec, KeyedVectors\n",
    "from sklearn.naive_bayes import MultinomialNB\n",
    "from sklearn import metrics\n",
    "from numpy import mean\n",
    "from numpy import std"
   ]
  },
  {
   "cell_type": "code",
   "execution_count": 50,
   "metadata": {},
   "outputs": [],
   "source": [
    "tracks = pd.read_csv('./Data/data.csv')\n",
    "genre = pd.read_csv('./Data/data_w_genres.csv')"
   ]
  },
  {
   "cell_type": "code",
   "execution_count": 51,
   "metadata": {},
   "outputs": [
    {
     "data": {
      "text/html": [
       "<div>\n",
       "<style scoped>\n",
       "    .dataframe tbody tr th:only-of-type {\n",
       "        vertical-align: middle;\n",
       "    }\n",
       "\n",
       "    .dataframe tbody tr th {\n",
       "        vertical-align: top;\n",
       "    }\n",
       "\n",
       "    .dataframe thead th {\n",
       "        text-align: right;\n",
       "    }\n",
       "</style>\n",
       "<table border=\"1\" class=\"dataframe\">\n",
       "  <thead>\n",
       "    <tr style=\"text-align: right;\">\n",
       "      <th></th>\n",
       "      <th>acousticness</th>\n",
       "      <th>artists</th>\n",
       "      <th>danceability</th>\n",
       "      <th>duration_ms</th>\n",
       "      <th>energy</th>\n",
       "      <th>explicit</th>\n",
       "      <th>id</th>\n",
       "      <th>instrumentalness</th>\n",
       "      <th>key</th>\n",
       "      <th>liveness</th>\n",
       "      <th>loudness</th>\n",
       "      <th>mode</th>\n",
       "      <th>name</th>\n",
       "      <th>popularity</th>\n",
       "      <th>release_date</th>\n",
       "      <th>speechiness</th>\n",
       "      <th>tempo</th>\n",
       "      <th>valence</th>\n",
       "      <th>year</th>\n",
       "    </tr>\n",
       "  </thead>\n",
       "  <tbody>\n",
       "    <tr>\n",
       "      <th>0</th>\n",
       "      <td>0.991</td>\n",
       "      <td>['Mamie Smith']</td>\n",
       "      <td>0.598</td>\n",
       "      <td>168333</td>\n",
       "      <td>0.224</td>\n",
       "      <td>0</td>\n",
       "      <td>0cS0A1fUEUd1EW3FcF8AEI</td>\n",
       "      <td>0.000522</td>\n",
       "      <td>5</td>\n",
       "      <td>0.379</td>\n",
       "      <td>-12.628</td>\n",
       "      <td>0</td>\n",
       "      <td>Keep A Song In Your Soul</td>\n",
       "      <td>12</td>\n",
       "      <td>1920</td>\n",
       "      <td>0.0936</td>\n",
       "      <td>149.976</td>\n",
       "      <td>0.634</td>\n",
       "      <td>1920</td>\n",
       "    </tr>\n",
       "  </tbody>\n",
       "</table>\n",
       "</div>"
      ],
      "text/plain": [
       "   acousticness          artists  danceability  duration_ms  energy  explicit  \\\n",
       "0         0.991  ['Mamie Smith']         0.598       168333   0.224         0   \n",
       "\n",
       "                       id  instrumentalness  key  liveness  loudness  mode  \\\n",
       "0  0cS0A1fUEUd1EW3FcF8AEI          0.000522    5     0.379   -12.628     0   \n",
       "\n",
       "                       name  popularity release_date  speechiness    tempo  \\\n",
       "0  Keep A Song In Your Soul          12         1920       0.0936  149.976   \n",
       "\n",
       "   valence  year  \n",
       "0    0.634  1920  "
      ]
     },
     "execution_count": 51,
     "metadata": {},
     "output_type": "execute_result"
    }
   ],
   "source": [
    "tracks.head(1)"
   ]
  },
  {
   "cell_type": "code",
   "execution_count": 21,
   "metadata": {},
   "outputs": [
    {
     "data": {
      "text/html": [
       "<div>\n",
       "<style scoped>\n",
       "    .dataframe tbody tr th:only-of-type {\n",
       "        vertical-align: middle;\n",
       "    }\n",
       "\n",
       "    .dataframe tbody tr th {\n",
       "        vertical-align: top;\n",
       "    }\n",
       "\n",
       "    .dataframe thead th {\n",
       "        text-align: right;\n",
       "    }\n",
       "</style>\n",
       "<table border=\"1\" class=\"dataframe\">\n",
       "  <thead>\n",
       "    <tr style=\"text-align: right;\">\n",
       "      <th></th>\n",
       "      <th>artists</th>\n",
       "      <th>acousticness</th>\n",
       "      <th>danceability</th>\n",
       "      <th>duration_ms</th>\n",
       "      <th>energy</th>\n",
       "      <th>instrumentalness</th>\n",
       "      <th>liveness</th>\n",
       "      <th>loudness</th>\n",
       "      <th>speechiness</th>\n",
       "      <th>tempo</th>\n",
       "      <th>valence</th>\n",
       "      <th>popularity</th>\n",
       "      <th>key</th>\n",
       "      <th>mode</th>\n",
       "      <th>count</th>\n",
       "      <th>genres</th>\n",
       "    </tr>\n",
       "  </thead>\n",
       "  <tbody>\n",
       "    <tr>\n",
       "      <th>0</th>\n",
       "      <td>\"Cats\" 1981 Original London Cast</td>\n",
       "      <td>0.5985</td>\n",
       "      <td>0.4701</td>\n",
       "      <td>267072.0</td>\n",
       "      <td>0.376203</td>\n",
       "      <td>0.010261</td>\n",
       "      <td>0.28305</td>\n",
       "      <td>-14.4343</td>\n",
       "      <td>0.20915</td>\n",
       "      <td>114.1288</td>\n",
       "      <td>0.35832</td>\n",
       "      <td>38.2</td>\n",
       "      <td>5</td>\n",
       "      <td>1</td>\n",
       "      <td>10</td>\n",
       "      <td>['show tunes']</td>\n",
       "    </tr>\n",
       "  </tbody>\n",
       "</table>\n",
       "</div>"
      ],
      "text/plain": [
       "                            artists  acousticness  danceability  duration_ms  \\\n",
       "0  \"Cats\" 1981 Original London Cast        0.5985        0.4701     267072.0   \n",
       "\n",
       "     energy  instrumentalness  liveness  loudness  speechiness     tempo  \\\n",
       "0  0.376203          0.010261   0.28305  -14.4343      0.20915  114.1288   \n",
       "\n",
       "   valence  popularity  key  mode  count          genres  \n",
       "0  0.35832        38.2    5     1     10  ['show tunes']  "
      ]
     },
     "execution_count": 21,
     "metadata": {},
     "output_type": "execute_result"
    }
   ],
   "source": [
    "genre.head(1)"
   ]
  },
  {
   "cell_type": "markdown",
   "metadata": {},
   "source": [
    "The cleaning starts here."
   ]
  },
  {
   "cell_type": "code",
   "execution_count": 31,
   "metadata": {},
   "outputs": [],
   "source": [
    "#I want to clean the artists column to make them into strings\n",
    "def track_strip(dataframe):\n",
    "    \n",
    "    dataframe['artists'] = dataframe['artists'].str.strip('[]') #stripping off brackets and and any extra quotations.\n",
    "    dataframe['artists'] = dataframe['artists'].str.strip(\"''\")\n",
    "    dataframe['artists'] = dataframe['artists'].str.strip('\"\"')\n",
    "    print(dataframe.head(3))"
   ]
  },
  {
   "cell_type": "code",
   "execution_count": 32,
   "metadata": {},
   "outputs": [
    {
     "name": "stdout",
     "output_type": "stream",
     "text": [
      "   acousticness                artists  danceability  duration_ms  energy  \\\n",
      "0         0.991            Mamie Smith         0.598       168333   0.224   \n",
      "1         0.643  Screamin' Jay Hawkins         0.852       150200   0.517   \n",
      "2         0.993            Mamie Smith         0.647       163827   0.186   \n",
      "\n",
      "   explicit                      id  instrumentalness  key  liveness  \\\n",
      "0         0  0cS0A1fUEUd1EW3FcF8AEI          0.000522    5    0.3790   \n",
      "1         0  0hbkKFIJm7Z05H8Zl9w30f          0.026400    5    0.0809   \n",
      "2         0  11m7laMUgmOKqI3oYzuhne          0.000018    0    0.5190   \n",
      "\n",
      "   loudness  mode                      name  popularity release_date  \\\n",
      "0   -12.628     0  Keep A Song In Your Soul          12         1920   \n",
      "1    -7.261     0      I Put A Spell On You           7   1920-01-05   \n",
      "2   -12.098     1              Golfing Papa           4         1920   \n",
      "\n",
      "   speechiness    tempo  valence  year  \n",
      "0       0.0936  149.976    0.634  1920  \n",
      "1       0.0534   86.889    0.950  1920  \n",
      "2       0.1740   97.600    0.689  1920  \n"
     ]
    }
   ],
   "source": [
    "track_strip(tracks)"
   ]
  },
  {
   "cell_type": "code",
   "execution_count": 232,
   "metadata": {},
   "outputs": [
    {
     "name": "stdout",
     "output_type": "stream",
     "text": [
      "                                      artists  acousticness  danceability  \\\n",
      "0             Cats\" 1981 Original London Cast      0.598500      0.470100   \n",
      "1                    Cats\" 1983 Broadway Cast      0.862538      0.441731   \n",
      "2  Fiddler On The Roof” Motion Picture Chorus      0.856571      0.348286   \n",
      "\n",
      "   duration_ms    energy  instrumentalness  liveness   loudness  speechiness  \\\n",
      "0     267072.0  0.376203          0.010261  0.283050 -14.434300     0.209150   \n",
      "1     287280.0  0.406808          0.081158  0.315215 -10.690000     0.176212   \n",
      "2     328920.0  0.286571          0.024593  0.325786 -15.230714     0.118514   \n",
      "\n",
      "        tempo   valence  popularity  key  mode  count          genres  \n",
      "0  114.128800  0.358320   38.200000    5     1     10  ['show tunes']  \n",
      "1  103.044154  0.268865   31.538462    5     1     26              []  \n",
      "2   77.375857  0.354857   34.571429    0     1      7              []  \n"
     ]
    }
   ],
   "source": [
    "track_strip(genre)"
   ]
  },
  {
   "cell_type": "code",
   "execution_count": 33,
   "metadata": {
    "scrolled": true
   },
   "outputs": [
    {
     "data": {
      "text/html": [
       "<div>\n",
       "<style scoped>\n",
       "    .dataframe tbody tr th:only-of-type {\n",
       "        vertical-align: middle;\n",
       "    }\n",
       "\n",
       "    .dataframe tbody tr th {\n",
       "        vertical-align: top;\n",
       "    }\n",
       "\n",
       "    .dataframe thead th {\n",
       "        text-align: right;\n",
       "    }\n",
       "</style>\n",
       "<table border=\"1\" class=\"dataframe\">\n",
       "  <thead>\n",
       "    <tr style=\"text-align: right;\">\n",
       "      <th></th>\n",
       "      <th>acousticness</th>\n",
       "      <th>artists</th>\n",
       "      <th>danceability</th>\n",
       "      <th>duration_ms</th>\n",
       "      <th>energy</th>\n",
       "      <th>explicit</th>\n",
       "      <th>instrumentalness</th>\n",
       "      <th>key</th>\n",
       "      <th>liveness</th>\n",
       "      <th>loudness</th>\n",
       "      <th>mode</th>\n",
       "      <th>name</th>\n",
       "      <th>popularity</th>\n",
       "      <th>speechiness</th>\n",
       "      <th>tempo</th>\n",
       "      <th>valence</th>\n",
       "    </tr>\n",
       "  </thead>\n",
       "  <tbody>\n",
       "    <tr>\n",
       "      <th>0</th>\n",
       "      <td>0.991</td>\n",
       "      <td>Mamie Smith</td>\n",
       "      <td>0.598</td>\n",
       "      <td>168333</td>\n",
       "      <td>0.224</td>\n",
       "      <td>0</td>\n",
       "      <td>0.000522</td>\n",
       "      <td>5</td>\n",
       "      <td>0.3790</td>\n",
       "      <td>-12.628</td>\n",
       "      <td>0</td>\n",
       "      <td>Keep A Song In Your Soul</td>\n",
       "      <td>12</td>\n",
       "      <td>0.0936</td>\n",
       "      <td>149.976</td>\n",
       "      <td>0.634</td>\n",
       "    </tr>\n",
       "    <tr>\n",
       "      <th>1</th>\n",
       "      <td>0.643</td>\n",
       "      <td>Screamin' Jay Hawkins</td>\n",
       "      <td>0.852</td>\n",
       "      <td>150200</td>\n",
       "      <td>0.517</td>\n",
       "      <td>0</td>\n",
       "      <td>0.026400</td>\n",
       "      <td>5</td>\n",
       "      <td>0.0809</td>\n",
       "      <td>-7.261</td>\n",
       "      <td>0</td>\n",
       "      <td>I Put A Spell On You</td>\n",
       "      <td>7</td>\n",
       "      <td>0.0534</td>\n",
       "      <td>86.889</td>\n",
       "      <td>0.950</td>\n",
       "    </tr>\n",
       "    <tr>\n",
       "      <th>2</th>\n",
       "      <td>0.993</td>\n",
       "      <td>Mamie Smith</td>\n",
       "      <td>0.647</td>\n",
       "      <td>163827</td>\n",
       "      <td>0.186</td>\n",
       "      <td>0</td>\n",
       "      <td>0.000018</td>\n",
       "      <td>0</td>\n",
       "      <td>0.5190</td>\n",
       "      <td>-12.098</td>\n",
       "      <td>1</td>\n",
       "      <td>Golfing Papa</td>\n",
       "      <td>4</td>\n",
       "      <td>0.1740</td>\n",
       "      <td>97.600</td>\n",
       "      <td>0.689</td>\n",
       "    </tr>\n",
       "  </tbody>\n",
       "</table>\n",
       "</div>"
      ],
      "text/plain": [
       "   acousticness                artists  danceability  duration_ms  energy  \\\n",
       "0         0.991            Mamie Smith         0.598       168333   0.224   \n",
       "1         0.643  Screamin' Jay Hawkins         0.852       150200   0.517   \n",
       "2         0.993            Mamie Smith         0.647       163827   0.186   \n",
       "\n",
       "   explicit  instrumentalness  key  liveness  loudness  mode  \\\n",
       "0         0          0.000522    5    0.3790   -12.628     0   \n",
       "1         0          0.026400    5    0.0809    -7.261     0   \n",
       "2         0          0.000018    0    0.5190   -12.098     1   \n",
       "\n",
       "                       name  popularity  speechiness    tempo  valence  \n",
       "0  Keep A Song In Your Soul          12       0.0936  149.976    0.634  \n",
       "1      I Put A Spell On You           7       0.0534   86.889    0.950  \n",
       "2              Golfing Papa           4       0.1740   97.600    0.689  "
      ]
     },
     "execution_count": 33,
     "metadata": {},
     "output_type": "execute_result"
    }
   ],
   "source": [
    "#Will be dropping features I don't need. These are the id, year, and release_date columns.\n",
    "tracks = tracks.drop(['id', 'release_date', 'year'], axis=1)\n",
    "tracks.head(3)"
   ]
  },
  {
   "cell_type": "code",
   "execution_count": 54,
   "metadata": {},
   "outputs": [
    {
     "data": {
      "image/png": "[encoded data removed]",
      "text/plain": [
       "<Figure size 864x504 with 2 Axes>"
      ]
     },
     "metadata": {
      "needs_background": "light"
     },
     "output_type": "display_data"
    }
   ],
   "source": [
    "#I want to look at the correlation among the features, so I will be using a heatmap plot. This will help me group certain features together to identify \n",
    "#What affects genre categorization.\n",
    "fig, ax = plt.subplots(figsize = (12, 7))\n",
    "\n",
    "correlations = tracks.corr()\n",
    "corr_2 = np.triu(correlations)\n",
    "ax = sns.heatmap(correlations, \n",
    "    vmin=-1, vmax=1, center=0,\n",
    "    cmap='plasma',\n",
    "   annot=True, mask=corr_2) # using the upper triangle matrix as mask \n",
    "\n",
    "\n"
   ]
  },
  {
   "cell_type": "markdown",
   "metadata": {},
   "source": [
    "There are strong correlations between energy & loudness, danceability & valence, explicit & speechiness, popularity and loudness, along with energy and popularity."
   ]
  },
  {
   "cell_type": "markdown",
   "metadata": {},
   "source": [
    "### EDA for Genres Dataset\n"
   ]
  },
  {
   "cell_type": "markdown",
   "metadata": {},
   "source": [
    "I will do some cleaning on the genre dataset, since I want to map the genres to the artists in tracks."
   ]
  },
  {
   "cell_type": "code",
   "execution_count": 214,
   "metadata": {},
   "outputs": [
    {
     "data": {
      "text/html": [
       "<div>\n",
       "<style scoped>\n",
       "    .dataframe tbody tr th:only-of-type {\n",
       "        vertical-align: middle;\n",
       "    }\n",
       "\n",
       "    .dataframe tbody tr th {\n",
       "        vertical-align: top;\n",
       "    }\n",
       "\n",
       "    .dataframe thead th {\n",
       "        text-align: right;\n",
       "    }\n",
       "</style>\n",
       "<table border=\"1\" class=\"dataframe\">\n",
       "  <thead>\n",
       "    <tr style=\"text-align: right;\">\n",
       "      <th></th>\n",
       "      <th>artists</th>\n",
       "      <th>acousticness</th>\n",
       "      <th>danceability</th>\n",
       "      <th>duration_ms</th>\n",
       "      <th>energy</th>\n",
       "      <th>instrumentalness</th>\n",
       "      <th>liveness</th>\n",
       "      <th>loudness</th>\n",
       "      <th>speechiness</th>\n",
       "      <th>tempo</th>\n",
       "      <th>valence</th>\n",
       "      <th>popularity</th>\n",
       "      <th>key</th>\n",
       "      <th>mode</th>\n",
       "      <th>count</th>\n",
       "      <th>genres</th>\n",
       "    </tr>\n",
       "  </thead>\n",
       "  <tbody>\n",
       "    <tr>\n",
       "      <th>0</th>\n",
       "      <td>Cats\" 1981 Original London Cast</td>\n",
       "      <td>0.598500</td>\n",
       "      <td>0.470100</td>\n",
       "      <td>267072.0</td>\n",
       "      <td>0.376203</td>\n",
       "      <td>0.010261</td>\n",
       "      <td>0.283050</td>\n",
       "      <td>-14.434300</td>\n",
       "      <td>0.209150</td>\n",
       "      <td>114.128800</td>\n",
       "      <td>0.358320</td>\n",
       "      <td>38.200000</td>\n",
       "      <td>5</td>\n",
       "      <td>1</td>\n",
       "      <td>10</td>\n",
       "      <td>show tunes</td>\n",
       "    </tr>\n",
       "    <tr>\n",
       "      <th>1</th>\n",
       "      <td>Cats\" 1983 Broadway Cast</td>\n",
       "      <td>0.862538</td>\n",
       "      <td>0.441731</td>\n",
       "      <td>287280.0</td>\n",
       "      <td>0.406808</td>\n",
       "      <td>0.081158</td>\n",
       "      <td>0.315215</td>\n",
       "      <td>-10.690000</td>\n",
       "      <td>0.176212</td>\n",
       "      <td>103.044154</td>\n",
       "      <td>0.268865</td>\n",
       "      <td>31.538462</td>\n",
       "      <td>5</td>\n",
       "      <td>1</td>\n",
       "      <td>26</td>\n",
       "      <td></td>\n",
       "    </tr>\n",
       "    <tr>\n",
       "      <th>2</th>\n",
       "      <td>Fiddler On The Roof” Motion Picture Chorus</td>\n",
       "      <td>0.856571</td>\n",
       "      <td>0.348286</td>\n",
       "      <td>328920.0</td>\n",
       "      <td>0.286571</td>\n",
       "      <td>0.024593</td>\n",
       "      <td>0.325786</td>\n",
       "      <td>-15.230714</td>\n",
       "      <td>0.118514</td>\n",
       "      <td>77.375857</td>\n",
       "      <td>0.354857</td>\n",
       "      <td>34.571429</td>\n",
       "      <td>0</td>\n",
       "      <td>1</td>\n",
       "      <td>7</td>\n",
       "      <td></td>\n",
       "    </tr>\n",
       "  </tbody>\n",
       "</table>\n",
       "</div>"
      ],
      "text/plain": [
       "                                      artists  acousticness  danceability  \\\n",
       "0             Cats\" 1981 Original London Cast      0.598500      0.470100   \n",
       "1                    Cats\" 1983 Broadway Cast      0.862538      0.441731   \n",
       "2  Fiddler On The Roof” Motion Picture Chorus      0.856571      0.348286   \n",
       "\n",
       "   duration_ms    energy  instrumentalness  liveness   loudness  speechiness  \\\n",
       "0     267072.0  0.376203          0.010261  0.283050 -14.434300     0.209150   \n",
       "1     287280.0  0.406808          0.081158  0.315215 -10.690000     0.176212   \n",
       "2     328920.0  0.286571          0.024593  0.325786 -15.230714     0.118514   \n",
       "\n",
       "        tempo   valence  popularity  key  mode  count      genres  \n",
       "0  114.128800  0.358320   38.200000    5     1     10  show tunes  \n",
       "1  103.044154  0.268865   31.538462    5     1     26              \n",
       "2   77.375857  0.354857   34.571429    0     1      7              "
      ]
     },
     "execution_count": 214,
     "metadata": {},
     "output_type": "execute_result"
    }
   ],
   "source": [
    "genre['genres'] = genre['genres'].str.strip('[]') #stripping off brackets and and any extra quotations.\n",
    "genre['genres'] = genre['genres'].str.strip(\"''\")\n",
    "genre['genres'] = genre['genres'].str.strip('\"\"')\n",
    "genre.head(3)"
   ]
  },
  {
   "cell_type": "code",
   "execution_count": 17,
   "metadata": {},
   "outputs": [
    {
     "data": {
      "text/plain": [
       "(32539, 16)"
      ]
     },
     "execution_count": 17,
     "metadata": {},
     "output_type": "execute_result"
    }
   ],
   "source": [
    "genre.shape"
   ]
  },
  {
   "cell_type": "code",
   "execution_count": 215,
   "metadata": {},
   "outputs": [],
   "source": [
    "#This dictionary will be used to map the genres of the artists to the 'tracks' dataframe.\n",
    "\n",
    "genres_dict = pd.Series(genre['genres'].values,index=genre['artists']).to_dict()\n",
    "#genres_dict"
   ]
  },
  {
   "cell_type": "code",
   "execution_count": 234,
   "metadata": {},
   "outputs": [
    {
     "data": {
      "text/html": [
       "<div>\n",
       "<style scoped>\n",
       "    .dataframe tbody tr th:only-of-type {\n",
       "        vertical-align: middle;\n",
       "    }\n",
       "\n",
       "    .dataframe tbody tr th {\n",
       "        vertical-align: top;\n",
       "    }\n",
       "\n",
       "    .dataframe thead th {\n",
       "        text-align: right;\n",
       "    }\n",
       "</style>\n",
       "<table border=\"1\" class=\"dataframe\">\n",
       "  <thead>\n",
       "    <tr style=\"text-align: right;\">\n",
       "      <th></th>\n",
       "      <th>acousticness</th>\n",
       "      <th>artists</th>\n",
       "      <th>danceability</th>\n",
       "      <th>duration_ms</th>\n",
       "      <th>energy</th>\n",
       "      <th>explicit</th>\n",
       "      <th>instrumentalness</th>\n",
       "      <th>key</th>\n",
       "      <th>liveness</th>\n",
       "      <th>loudness</th>\n",
       "      <th>mode</th>\n",
       "      <th>name</th>\n",
       "      <th>popularity</th>\n",
       "      <th>speechiness</th>\n",
       "      <th>tempo</th>\n",
       "      <th>valence</th>\n",
       "      <th>genre</th>\n",
       "    </tr>\n",
       "  </thead>\n",
       "  <tbody>\n",
       "    <tr>\n",
       "      <th>0</th>\n",
       "      <td>0.991000</td>\n",
       "      <td>Mamie Smith</td>\n",
       "      <td>0.598</td>\n",
       "      <td>168333</td>\n",
       "      <td>0.224</td>\n",
       "      <td>0</td>\n",
       "      <td>0.000522</td>\n",
       "      <td>5</td>\n",
       "      <td>0.3790</td>\n",
       "      <td>-12.628</td>\n",
       "      <td>0</td>\n",
       "      <td>Keep A Song In Your Soul</td>\n",
       "      <td>12</td>\n",
       "      <td>0.0936</td>\n",
       "      <td>149.976</td>\n",
       "      <td>0.6340</td>\n",
       "      <td>harlem renaissance', 'traditional blues</td>\n",
       "    </tr>\n",
       "    <tr>\n",
       "      <th>1</th>\n",
       "      <td>0.643000</td>\n",
       "      <td>Screamin' Jay Hawkins</td>\n",
       "      <td>0.852</td>\n",
       "      <td>150200</td>\n",
       "      <td>0.517</td>\n",
       "      <td>0</td>\n",
       "      <td>0.026400</td>\n",
       "      <td>5</td>\n",
       "      <td>0.0809</td>\n",
       "      <td>-7.261</td>\n",
       "      <td>0</td>\n",
       "      <td>I Put A Spell On You</td>\n",
       "      <td>7</td>\n",
       "      <td>0.0534</td>\n",
       "      <td>86.889</td>\n",
       "      <td>0.9500</td>\n",
       "      <td>blues', 'traditional blues</td>\n",
       "    </tr>\n",
       "    <tr>\n",
       "      <th>2</th>\n",
       "      <td>0.993000</td>\n",
       "      <td>Mamie Smith</td>\n",
       "      <td>0.647</td>\n",
       "      <td>163827</td>\n",
       "      <td>0.186</td>\n",
       "      <td>0</td>\n",
       "      <td>0.000018</td>\n",
       "      <td>0</td>\n",
       "      <td>0.5190</td>\n",
       "      <td>-12.098</td>\n",
       "      <td>1</td>\n",
       "      <td>Golfing Papa</td>\n",
       "      <td>4</td>\n",
       "      <td>0.1740</td>\n",
       "      <td>97.600</td>\n",
       "      <td>0.6890</td>\n",
       "      <td>harlem renaissance', 'traditional blues</td>\n",
       "    </tr>\n",
       "    <tr>\n",
       "      <th>3</th>\n",
       "      <td>0.000173</td>\n",
       "      <td>Oscar Velazquez</td>\n",
       "      <td>0.730</td>\n",
       "      <td>422087</td>\n",
       "      <td>0.798</td>\n",
       "      <td>0</td>\n",
       "      <td>0.801000</td>\n",
       "      <td>2</td>\n",
       "      <td>0.1280</td>\n",
       "      <td>-7.311</td>\n",
       "      <td>1</td>\n",
       "      <td>True House Music - Xavier Santos &amp; Carlos Gomi...</td>\n",
       "      <td>17</td>\n",
       "      <td>0.0425</td>\n",
       "      <td>127.997</td>\n",
       "      <td>0.0422</td>\n",
       "      <td>circuit</td>\n",
       "    </tr>\n",
       "    <tr>\n",
       "      <th>4</th>\n",
       "      <td>0.295000</td>\n",
       "      <td>Mixe</td>\n",
       "      <td>0.704</td>\n",
       "      <td>165224</td>\n",
       "      <td>0.707</td>\n",
       "      <td>1</td>\n",
       "      <td>0.000246</td>\n",
       "      <td>10</td>\n",
       "      <td>0.4020</td>\n",
       "      <td>-6.036</td>\n",
       "      <td>0</td>\n",
       "      <td>Xuniverxe</td>\n",
       "      <td>2</td>\n",
       "      <td>0.0768</td>\n",
       "      <td>122.076</td>\n",
       "      <td>0.2990</td>\n",
       "      <td>glitchcore</td>\n",
       "    </tr>\n",
       "  </tbody>\n",
       "</table>\n",
       "</div>"
      ],
      "text/plain": [
       "   acousticness                artists  danceability  duration_ms  energy  \\\n",
       "0      0.991000            Mamie Smith         0.598       168333   0.224   \n",
       "1      0.643000  Screamin' Jay Hawkins         0.852       150200   0.517   \n",
       "2      0.993000            Mamie Smith         0.647       163827   0.186   \n",
       "3      0.000173        Oscar Velazquez         0.730       422087   0.798   \n",
       "4      0.295000                   Mixe         0.704       165224   0.707   \n",
       "\n",
       "   explicit  instrumentalness  key  liveness  loudness  mode  \\\n",
       "0         0          0.000522    5    0.3790   -12.628     0   \n",
       "1         0          0.026400    5    0.0809    -7.261     0   \n",
       "2         0          0.000018    0    0.5190   -12.098     1   \n",
       "3         0          0.801000    2    0.1280    -7.311     1   \n",
       "4         1          0.000246   10    0.4020    -6.036     0   \n",
       "\n",
       "                                                name  popularity  speechiness  \\\n",
       "0                           Keep A Song In Your Soul          12       0.0936   \n",
       "1                               I Put A Spell On You           7       0.0534   \n",
       "2                                       Golfing Papa           4       0.1740   \n",
       "3  True House Music - Xavier Santos & Carlos Gomi...          17       0.0425   \n",
       "4                                          Xuniverxe           2       0.0768   \n",
       "\n",
       "     tempo  valence                                    genre  \n",
       "0  149.976   0.6340  harlem renaissance', 'traditional blues  \n",
       "1   86.889   0.9500               blues', 'traditional blues  \n",
       "2   97.600   0.6890  harlem renaissance', 'traditional blues  \n",
       "3  127.997   0.0422                                  circuit  \n",
       "4  122.076   0.2990                               glitchcore  "
      ]
     },
     "execution_count": 234,
     "metadata": {},
     "output_type": "execute_result"
    }
   ],
   "source": [
    "#to merge the genres with the artists in the tracks column, I am mapping the above dictionary to the artist names into\n",
    "#a new column in tracks. I am doing this so that I can see everything in one dataframe.\n",
    "tracks['genre'] = tracks['artists'].map(genres_dict)\n",
    "\n",
    "tracks.head()"
   ]
  },
  {
   "cell_type": "code",
   "execution_count": 236,
   "metadata": {},
   "outputs": [
    {
     "name": "stdout",
     "output_type": "stream",
     "text": [
      "<class 'pandas.core.frame.DataFrame'>\n",
      "RangeIndex: 174389 entries, 0 to 174388\n",
      "Data columns (total 17 columns):\n",
      " #   Column            Non-Null Count   Dtype  \n",
      "---  ------            --------------   -----  \n",
      " 0   acousticness      174389 non-null  float64\n",
      " 1   artists           174389 non-null  object \n",
      " 2   danceability      174389 non-null  float64\n",
      " 3   duration_ms       174389 non-null  int64  \n",
      " 4   energy            174389 non-null  float64\n",
      " 5   explicit          174389 non-null  int64  \n",
      " 6   instrumentalness  174389 non-null  float64\n",
      " 7   key               174389 non-null  int64  \n",
      " 8   liveness          174389 non-null  float64\n",
      " 9   loudness          174389 non-null  float64\n",
      " 10  mode              174389 non-null  int64  \n",
      " 11  name              174389 non-null  object \n",
      " 12  popularity        174389 non-null  int64  \n",
      " 13  speechiness       174389 non-null  float64\n",
      " 14  tempo             174389 non-null  float64\n",
      " 15  valence           174389 non-null  float64\n",
      " 16  genre             137429 non-null  object \n",
      "dtypes: float64(9), int64(5), object(3)\n",
      "memory usage: 22.6+ MB\n"
     ]
    }
   ],
   "source": [
    "#I want to view how many missing values there are so that I can remove those values if the number is not too large.\n",
    "tracks.info()"
   ]
  },
  {
   "cell_type": "code",
   "execution_count": 22,
   "metadata": {},
   "outputs": [],
   "source": [
    "#genre has roughly 35K missing values. After viewing some of the missing values, I've decided I am going to drop them.\n",
    "tracks = tracks.dropna()\n",
    "audio_feats = tracks"
   ]
  },
  {
   "cell_type": "code",
   "execution_count": 116,
   "metadata": {},
   "outputs": [
    {
     "name": "stdout",
     "output_type": "stream",
     "text": [
      "[\"harlem renaissance', 'traditional blues\" \"blues', 'traditional blues\"\n",
      " 'circuit' ... 'minimal dub' 'trap latino' \"city pop', 'japanese r&b\"]\n",
      "list of genres: 8602\n"
     ]
    }
   ],
   "source": [
    "#Now I will need to map the genres to more clear lables. Currently the genres are jumbled and have a lot of repetition\n",
    "#To see how many unique genre values there are, I will print the number.\n",
    "print(\"list of genres:\", len(audio_feats.genre.unique()))"
   ]
  },
  {
   "cell_type": "markdown",
   "metadata": {},
   "source": [
    "We have 8602 genre values! That is a lot. We will work on narrowing them down to 10.\n",
    "\n",
    "Since I want to narrow down the amount of genres in the dataset, I will create a function that searches for a specific string value in my list of genres (gen_category), in each row of the dataframe. The function will then append the count of the genre-strings to a dictionary, and whichever genre has the most counts will be the populated genre in the new column."
   ]
  },
  {
   "cell_type": "code",
   "execution_count": 239,
   "metadata": {},
   "outputs": [],
   "source": [
    "def genre_category(string):\n",
    "    captured_genres = []   #This list holds the genres captured from the inputs that are present in gen_category.\n",
    "    gen_category = ['pop', 'hip hop', 'country', 'jazz', 'classical', 'latin', 'rock', 'metal', 'blues', 'house']\n",
    "    count = {}    #Holds the count of each genre from gen_category present in the string.\n",
    "    \n",
    "    for category in gen_category:\n",
    "        count[category] = 0    #Each count starts at 0.\n",
    "    for gen in string.split(','): \n",
    "        for genre_name in gen_category:\n",
    "            if genre_name in gen: #If the genre is in gen_category, then the count increases and the names are appended.\n",
    "                count[genre_name]= count[genre_name] + 1 \n",
    "                captured_genres.append(genre_name)\n",
    "    max_value = max(count.items(), key=lambda x : x[1]) #This is our max value from our dictionary.\n",
    "    if max_value[1] == 0:  #If the value of the genre is 0, then it was not found in our list of genres.\n",
    "        return 'other'     #We will categorize these as 'other', since the genre is niche.\n",
    "    else:\n",
    "        return max_value[0]\n",
    "                "
   ]
  },
  {
   "cell_type": "code",
   "execution_count": 240,
   "metadata": {},
   "outputs": [],
   "source": [
    "audio_feats['new_genres'] = audio_feats['genre'].map(genre_category) #Applying the function to the column."
   ]
  },
  {
   "cell_type": "code",
   "execution_count": 242,
   "metadata": {},
   "outputs": [],
   "source": [
    "#Our function has been applied and now we have new genres. We will drop the old column.\n",
    "audio_feats = audio_feats.drop('genre', axis=1)"
   ]
  },
  {
   "cell_type": "code",
   "execution_count": 243,
   "metadata": {},
   "outputs": [
    {
     "data": {
      "text/html": [
       "<div>\n",
       "<style scoped>\n",
       "    .dataframe tbody tr th:only-of-type {\n",
       "        vertical-align: middle;\n",
       "    }\n",
       "\n",
       "    .dataframe tbody tr th {\n",
       "        vertical-align: top;\n",
       "    }\n",
       "\n",
       "    .dataframe thead th {\n",
       "        text-align: right;\n",
       "    }\n",
       "</style>\n",
       "<table border=\"1\" class=\"dataframe\">\n",
       "  <thead>\n",
       "    <tr style=\"text-align: right;\">\n",
       "      <th></th>\n",
       "      <th>acousticness</th>\n",
       "      <th>artists</th>\n",
       "      <th>danceability</th>\n",
       "      <th>duration_ms</th>\n",
       "      <th>energy</th>\n",
       "      <th>explicit</th>\n",
       "      <th>instrumentalness</th>\n",
       "      <th>key</th>\n",
       "      <th>liveness</th>\n",
       "      <th>loudness</th>\n",
       "      <th>mode</th>\n",
       "      <th>name</th>\n",
       "      <th>popularity</th>\n",
       "      <th>speechiness</th>\n",
       "      <th>tempo</th>\n",
       "      <th>valence</th>\n",
       "      <th>new_genres</th>\n",
       "    </tr>\n",
       "  </thead>\n",
       "  <tbody>\n",
       "    <tr>\n",
       "      <th>0</th>\n",
       "      <td>0.991</td>\n",
       "      <td>Mamie Smith</td>\n",
       "      <td>0.598</td>\n",
       "      <td>168333</td>\n",
       "      <td>0.224</td>\n",
       "      <td>0</td>\n",
       "      <td>0.000522</td>\n",
       "      <td>5</td>\n",
       "      <td>0.3790</td>\n",
       "      <td>-12.628</td>\n",
       "      <td>0</td>\n",
       "      <td>Keep A Song In Your Soul</td>\n",
       "      <td>12</td>\n",
       "      <td>0.0936</td>\n",
       "      <td>149.976</td>\n",
       "      <td>0.634</td>\n",
       "      <td>blues</td>\n",
       "    </tr>\n",
       "    <tr>\n",
       "      <th>1</th>\n",
       "      <td>0.643</td>\n",
       "      <td>Screamin' Jay Hawkins</td>\n",
       "      <td>0.852</td>\n",
       "      <td>150200</td>\n",
       "      <td>0.517</td>\n",
       "      <td>0</td>\n",
       "      <td>0.026400</td>\n",
       "      <td>5</td>\n",
       "      <td>0.0809</td>\n",
       "      <td>-7.261</td>\n",
       "      <td>0</td>\n",
       "      <td>I Put A Spell On You</td>\n",
       "      <td>7</td>\n",
       "      <td>0.0534</td>\n",
       "      <td>86.889</td>\n",
       "      <td>0.950</td>\n",
       "      <td>blues</td>\n",
       "    </tr>\n",
       "  </tbody>\n",
       "</table>\n",
       "</div>"
      ],
      "text/plain": [
       "   acousticness                artists  danceability  duration_ms  energy  \\\n",
       "0         0.991            Mamie Smith         0.598       168333   0.224   \n",
       "1         0.643  Screamin' Jay Hawkins         0.852       150200   0.517   \n",
       "\n",
       "   explicit  instrumentalness  key  liveness  loudness  mode  \\\n",
       "0         0          0.000522    5    0.3790   -12.628     0   \n",
       "1         0          0.026400    5    0.0809    -7.261     0   \n",
       "\n",
       "                       name  popularity  speechiness    tempo  valence  \\\n",
       "0  Keep A Song In Your Soul          12       0.0936  149.976    0.634   \n",
       "1      I Put A Spell On You           7       0.0534   86.889    0.950   \n",
       "\n",
       "  new_genres  \n",
       "0      blues  \n",
       "1      blues  "
      ]
     },
     "execution_count": 243,
     "metadata": {},
     "output_type": "execute_result"
    }
   ],
   "source": [
    "audio_feats.head(2)"
   ]
  },
  {
   "cell_type": "code",
   "execution_count": 244,
   "metadata": {},
   "outputs": [],
   "source": [
    "audio_feats.to_csv('./data/audio_feats.csv')"
   ]
  },
  {
   "cell_type": "markdown",
   "metadata": {},
   "source": [
    "To better understand how my genres stack up against each other, I will be looking at the variance between them. *Variance* measures the spread of data in a set from it's median and mean value.\n",
    "\n",
    "I will group the audio qualities by the genre and find the mean for each one. "
   ]
  },
  {
   "cell_type": "code",
   "execution_count": 2,
   "metadata": {},
   "outputs": [],
   "source": [
    "audio_feats = audio_feats.drop('Unnamed: 0', axis=1)"
   ]
  },
  {
   "cell_type": "code",
   "execution_count": 4,
   "metadata": {},
   "outputs": [
    {
     "data": {
      "text/html": [
       "<div>\n",
       "<style scoped>\n",
       "    .dataframe tbody tr th:only-of-type {\n",
       "        vertical-align: middle;\n",
       "    }\n",
       "\n",
       "    .dataframe tbody tr th {\n",
       "        vertical-align: top;\n",
       "    }\n",
       "\n",
       "    .dataframe thead th {\n",
       "        text-align: right;\n",
       "    }\n",
       "</style>\n",
       "<table border=\"1\" class=\"dataframe\">\n",
       "  <thead>\n",
       "    <tr style=\"text-align: right;\">\n",
       "      <th></th>\n",
       "      <th>acousticness</th>\n",
       "      <th>danceability</th>\n",
       "      <th>duration_ms</th>\n",
       "      <th>energy</th>\n",
       "      <th>explicit</th>\n",
       "      <th>instrumentalness</th>\n",
       "      <th>key</th>\n",
       "      <th>liveness</th>\n",
       "      <th>loudness</th>\n",
       "      <th>mode</th>\n",
       "      <th>popularity</th>\n",
       "      <th>speechiness</th>\n",
       "      <th>tempo</th>\n",
       "      <th>valence</th>\n",
       "    </tr>\n",
       "    <tr>\n",
       "      <th>new_genres</th>\n",
       "      <th></th>\n",
       "      <th></th>\n",
       "      <th></th>\n",
       "      <th></th>\n",
       "      <th></th>\n",
       "      <th></th>\n",
       "      <th></th>\n",
       "      <th></th>\n",
       "      <th></th>\n",
       "      <th></th>\n",
       "      <th></th>\n",
       "      <th></th>\n",
       "      <th></th>\n",
       "      <th></th>\n",
       "    </tr>\n",
       "  </thead>\n",
       "  <tbody>\n",
       "    <tr>\n",
       "      <th>blues</th>\n",
       "      <td>0.684709</td>\n",
       "      <td>0.590208</td>\n",
       "      <td>194491.977917</td>\n",
       "      <td>0.398959</td>\n",
       "      <td>0.002208</td>\n",
       "      <td>0.096798</td>\n",
       "      <td>5.191388</td>\n",
       "      <td>0.186194</td>\n",
       "      <td>-11.786620</td>\n",
       "      <td>0.796835</td>\n",
       "      <td>20.527788</td>\n",
       "      <td>0.075559</td>\n",
       "      <td>117.135032</td>\n",
       "      <td>0.651527</td>\n",
       "    </tr>\n",
       "    <tr>\n",
       "      <th>classical</th>\n",
       "      <td>0.784256</td>\n",
       "      <td>0.442558</td>\n",
       "      <td>226079.650397</td>\n",
       "      <td>0.306503</td>\n",
       "      <td>0.002270</td>\n",
       "      <td>0.413769</td>\n",
       "      <td>5.003405</td>\n",
       "      <td>0.190990</td>\n",
       "      <td>-15.823582</td>\n",
       "      <td>0.690125</td>\n",
       "      <td>17.007946</td>\n",
       "      <td>0.083524</td>\n",
       "      <td>111.486692</td>\n",
       "      <td>0.412891</td>\n",
       "    </tr>\n",
       "    <tr>\n",
       "      <th>country</th>\n",
       "      <td>0.466262</td>\n",
       "      <td>0.586341</td>\n",
       "      <td>197564.073163</td>\n",
       "      <td>0.496706</td>\n",
       "      <td>0.011536</td>\n",
       "      <td>0.027683</td>\n",
       "      <td>5.363540</td>\n",
       "      <td>0.193918</td>\n",
       "      <td>-10.589107</td>\n",
       "      <td>0.920613</td>\n",
       "      <td>35.077110</td>\n",
       "      <td>0.050055</td>\n",
       "      <td>119.461785</td>\n",
       "      <td>0.594094</td>\n",
       "    </tr>\n",
       "    <tr>\n",
       "      <th>hip hop</th>\n",
       "      <td>0.175897</td>\n",
       "      <td>0.725720</td>\n",
       "      <td>240405.670321</td>\n",
       "      <td>0.655412</td>\n",
       "      <td>0.627021</td>\n",
       "      <td>0.047239</td>\n",
       "      <td>5.608112</td>\n",
       "      <td>0.218807</td>\n",
       "      <td>-8.222480</td>\n",
       "      <td>0.570019</td>\n",
       "      <td>47.351329</td>\n",
       "      <td>0.211956</td>\n",
       "      <td>115.037738</td>\n",
       "      <td>0.580553</td>\n",
       "    </tr>\n",
       "    <tr>\n",
       "      <th>house</th>\n",
       "      <td>0.052617</td>\n",
       "      <td>0.599434</td>\n",
       "      <td>279697.382528</td>\n",
       "      <td>0.808813</td>\n",
       "      <td>0.010178</td>\n",
       "      <td>0.577947</td>\n",
       "      <td>5.749788</td>\n",
       "      <td>0.239308</td>\n",
       "      <td>-8.033364</td>\n",
       "      <td>0.490246</td>\n",
       "      <td>16.946565</td>\n",
       "      <td>0.075558</td>\n",
       "      <td>128.516789</td>\n",
       "      <td>0.428705</td>\n",
       "    </tr>\n",
       "    <tr>\n",
       "      <th>jazz</th>\n",
       "      <td>0.735635</td>\n",
       "      <td>0.518364</td>\n",
       "      <td>257089.553633</td>\n",
       "      <td>0.337979</td>\n",
       "      <td>0.000940</td>\n",
       "      <td>0.298659</td>\n",
       "      <td>5.035468</td>\n",
       "      <td>0.196468</td>\n",
       "      <td>-14.059969</td>\n",
       "      <td>0.624569</td>\n",
       "      <td>21.583229</td>\n",
       "      <td>0.059886</td>\n",
       "      <td>112.879686</td>\n",
       "      <td>0.498419</td>\n",
       "    </tr>\n",
       "    <tr>\n",
       "      <th>latin</th>\n",
       "      <td>0.351974</td>\n",
       "      <td>0.630162</td>\n",
       "      <td>242254.806285</td>\n",
       "      <td>0.611181</td>\n",
       "      <td>0.047353</td>\n",
       "      <td>0.020207</td>\n",
       "      <td>5.090831</td>\n",
       "      <td>0.197117</td>\n",
       "      <td>-8.554668</td>\n",
       "      <td>0.661644</td>\n",
       "      <td>42.965131</td>\n",
       "      <td>0.061833</td>\n",
       "      <td>121.939142</td>\n",
       "      <td>0.623957</td>\n",
       "    </tr>\n",
       "    <tr>\n",
       "      <th>metal</th>\n",
       "      <td>0.038703</td>\n",
       "      <td>0.419516</td>\n",
       "      <td>261237.802545</td>\n",
       "      <td>0.859639</td>\n",
       "      <td>0.218545</td>\n",
       "      <td>0.166391</td>\n",
       "      <td>5.444000</td>\n",
       "      <td>0.224949</td>\n",
       "      <td>-6.320803</td>\n",
       "      <td>0.615636</td>\n",
       "      <td>41.913455</td>\n",
       "      <td>0.088903</td>\n",
       "      <td>125.312712</td>\n",
       "      <td>0.364232</td>\n",
       "    </tr>\n",
       "    <tr>\n",
       "      <th>other</th>\n",
       "      <td>0.552126</td>\n",
       "      <td>0.561066</td>\n",
       "      <td>212435.067096</td>\n",
       "      <td>0.437396</td>\n",
       "      <td>0.085635</td>\n",
       "      <td>0.243583</td>\n",
       "      <td>5.234153</td>\n",
       "      <td>0.210931</td>\n",
       "      <td>-12.460915</td>\n",
       "      <td>0.692557</td>\n",
       "      <td>16.019318</td>\n",
       "      <td>0.164715</td>\n",
       "      <td>115.831169</td>\n",
       "      <td>0.550546</td>\n",
       "    </tr>\n",
       "    <tr>\n",
       "      <th>pop</th>\n",
       "      <td>0.418611</td>\n",
       "      <td>0.554681</td>\n",
       "      <td>228991.404024</td>\n",
       "      <td>0.547011</td>\n",
       "      <td>0.049675</td>\n",
       "      <td>0.080827</td>\n",
       "      <td>5.205928</td>\n",
       "      <td>0.198682</td>\n",
       "      <td>-9.625101</td>\n",
       "      <td>0.695976</td>\n",
       "      <td>37.306750</td>\n",
       "      <td>0.065795</td>\n",
       "      <td>119.107764</td>\n",
       "      <td>0.552710</td>\n",
       "    </tr>\n",
       "    <tr>\n",
       "      <th>rock</th>\n",
       "      <td>0.296243</td>\n",
       "      <td>0.507628</td>\n",
       "      <td>242686.451678</td>\n",
       "      <td>0.607174</td>\n",
       "      <td>0.017328</td>\n",
       "      <td>0.101479</td>\n",
       "      <td>5.159689</td>\n",
       "      <td>0.222805</td>\n",
       "      <td>-10.148747</td>\n",
       "      <td>0.758583</td>\n",
       "      <td>35.448472</td>\n",
       "      <td>0.060722</td>\n",
       "      <td>122.578962</td>\n",
       "      <td>0.552568</td>\n",
       "    </tr>\n",
       "  </tbody>\n",
       "</table>\n",
       "</div>"
      ],
      "text/plain": [
       "            acousticness  danceability    duration_ms    energy  explicit  \\\n",
       "new_genres                                                                  \n",
       "blues           0.684709      0.590208  194491.977917  0.398959  0.002208   \n",
       "classical       0.784256      0.442558  226079.650397  0.306503  0.002270   \n",
       "country         0.466262      0.586341  197564.073163  0.496706  0.011536   \n",
       "hip hop         0.175897      0.725720  240405.670321  0.655412  0.627021   \n",
       "house           0.052617      0.599434  279697.382528  0.808813  0.010178   \n",
       "jazz            0.735635      0.518364  257089.553633  0.337979  0.000940   \n",
       "latin           0.351974      0.630162  242254.806285  0.611181  0.047353   \n",
       "metal           0.038703      0.419516  261237.802545  0.859639  0.218545   \n",
       "other           0.552126      0.561066  212435.067096  0.437396  0.085635   \n",
       "pop             0.418611      0.554681  228991.404024  0.547011  0.049675   \n",
       "rock            0.296243      0.507628  242686.451678  0.607174  0.017328   \n",
       "\n",
       "            instrumentalness       key  liveness   loudness      mode  \\\n",
       "new_genres                                                              \n",
       "blues               0.096798  5.191388  0.186194 -11.786620  0.796835   \n",
       "classical           0.413769  5.003405  0.190990 -15.823582  0.690125   \n",
       "country             0.027683  5.363540  0.193918 -10.589107  0.920613   \n",
       "hip hop             0.047239  5.608112  0.218807  -8.222480  0.570019   \n",
       "house               0.577947  5.749788  0.239308  -8.033364  0.490246   \n",
       "jazz                0.298659  5.035468  0.196468 -14.059969  0.624569   \n",
       "latin               0.020207  5.090831  0.197117  -8.554668  0.661644   \n",
       "metal               0.166391  5.444000  0.224949  -6.320803  0.615636   \n",
       "other               0.243583  5.234153  0.210931 -12.460915  0.692557   \n",
       "pop                 0.080827  5.205928  0.198682  -9.625101  0.695976   \n",
       "rock                0.101479  5.159689  0.222805 -10.148747  0.758583   \n",
       "\n",
       "            popularity  speechiness       tempo   valence  \n",
       "new_genres                                                 \n",
       "blues        20.527788     0.075559  117.135032  0.651527  \n",
       "classical    17.007946     0.083524  111.486692  0.412891  \n",
       "country      35.077110     0.050055  119.461785  0.594094  \n",
       "hip hop      47.351329     0.211956  115.037738  0.580553  \n",
       "house        16.946565     0.075558  128.516789  0.428705  \n",
       "jazz         21.583229     0.059886  112.879686  0.498419  \n",
       "latin        42.965131     0.061833  121.939142  0.623957  \n",
       "metal        41.913455     0.088903  125.312712  0.364232  \n",
       "other        16.019318     0.164715  115.831169  0.550546  \n",
       "pop          37.306750     0.065795  119.107764  0.552710  \n",
       "rock         35.448472     0.060722  122.578962  0.552568  "
      ]
     },
     "execution_count": 4,
     "metadata": {},
     "output_type": "execute_result"
    }
   ],
   "source": [
    "#Code adapted from https://github.com/christianlomboy\n",
    "variance_qualities = audio_feats.groupby(['new_genres']).mean()\n",
    "variance_qualities"
   ]
  },
  {
   "cell_type": "markdown",
   "metadata": {},
   "source": [
    "To better interpret our feature values, I will normalize the data so it is on a scale from 0-1."
   ]
  },
  {
   "cell_type": "code",
   "execution_count": 5,
   "metadata": {},
   "outputs": [
    {
     "data": {
      "text/html": [
       "<div>\n",
       "<style scoped>\n",
       "    .dataframe tbody tr th:only-of-type {\n",
       "        vertical-align: middle;\n",
       "    }\n",
       "\n",
       "    .dataframe tbody tr th {\n",
       "        vertical-align: top;\n",
       "    }\n",
       "\n",
       "    .dataframe thead th {\n",
       "        text-align: right;\n",
       "    }\n",
       "</style>\n",
       "<table border=\"1\" class=\"dataframe\">\n",
       "  <thead>\n",
       "    <tr style=\"text-align: right;\">\n",
       "      <th></th>\n",
       "      <th>acousticness</th>\n",
       "      <th>danceability</th>\n",
       "      <th>duration_ms</th>\n",
       "      <th>energy</th>\n",
       "      <th>explicit</th>\n",
       "      <th>instrumentalness</th>\n",
       "      <th>key</th>\n",
       "      <th>liveness</th>\n",
       "      <th>loudness</th>\n",
       "      <th>mode</th>\n",
       "      <th>popularity</th>\n",
       "      <th>speechiness</th>\n",
       "      <th>tempo</th>\n",
       "      <th>valence</th>\n",
       "    </tr>\n",
       "    <tr>\n",
       "      <th>new_genres</th>\n",
       "      <th></th>\n",
       "      <th></th>\n",
       "      <th></th>\n",
       "      <th></th>\n",
       "      <th></th>\n",
       "      <th></th>\n",
       "      <th></th>\n",
       "      <th></th>\n",
       "      <th></th>\n",
       "      <th></th>\n",
       "      <th></th>\n",
       "      <th></th>\n",
       "      <th></th>\n",
       "      <th></th>\n",
       "    </tr>\n",
       "  </thead>\n",
       "  <tbody>\n",
       "    <tr>\n",
       "      <th>blues</th>\n",
       "      <td>0.866479</td>\n",
       "      <td>0.557447</td>\n",
       "      <td>0.000000</td>\n",
       "      <td>0.167150</td>\n",
       "      <td>0.002027</td>\n",
       "      <td>0.137323</td>\n",
       "      <td>0.251858</td>\n",
       "      <td>0.000000</td>\n",
       "      <td>0.424819</td>\n",
       "      <td>0.712389</td>\n",
       "      <td>0.143893</td>\n",
       "      <td>0.157532</td>\n",
       "      <td>0.331668</td>\n",
       "      <td>1.000000</td>\n",
       "    </tr>\n",
       "    <tr>\n",
       "      <th>classical</th>\n",
       "      <td>1.000000</td>\n",
       "      <td>0.075248</td>\n",
       "      <td>0.370724</td>\n",
       "      <td>0.000000</td>\n",
       "      <td>0.002125</td>\n",
       "      <td>0.705637</td>\n",
       "      <td>0.000000</td>\n",
       "      <td>0.090288</td>\n",
       "      <td>0.000000</td>\n",
       "      <td>0.464438</td>\n",
       "      <td>0.031553</td>\n",
       "      <td>0.206725</td>\n",
       "      <td>0.000000</td>\n",
       "      <td>0.169369</td>\n",
       "    </tr>\n",
       "    <tr>\n",
       "      <th>country</th>\n",
       "      <td>0.573479</td>\n",
       "      <td>0.544817</td>\n",
       "      <td>0.036055</td>\n",
       "      <td>0.343863</td>\n",
       "      <td>0.016925</td>\n",
       "      <td>0.013403</td>\n",
       "      <td>0.482507</td>\n",
       "      <td>0.145425</td>\n",
       "      <td>0.550836</td>\n",
       "      <td>1.000000</td>\n",
       "      <td>0.608253</td>\n",
       "      <td>0.000000</td>\n",
       "      <td>0.468294</td>\n",
       "      <td>0.800091</td>\n",
       "    </tr>\n",
       "    <tr>\n",
       "      <th>hip hop</th>\n",
       "      <td>0.184016</td>\n",
       "      <td>1.000000</td>\n",
       "      <td>0.538859</td>\n",
       "      <td>0.630784</td>\n",
       "      <td>1.000000</td>\n",
       "      <td>0.048467</td>\n",
       "      <td>0.810183</td>\n",
       "      <td>0.614018</td>\n",
       "      <td>0.799882</td>\n",
       "      <td>0.185361</td>\n",
       "      <td>1.000000</td>\n",
       "      <td>1.000000</td>\n",
       "      <td>0.208516</td>\n",
       "      <td>0.752957</td>\n",
       "    </tr>\n",
       "    <tr>\n",
       "      <th>house</th>\n",
       "      <td>0.018662</td>\n",
       "      <td>0.587577</td>\n",
       "      <td>1.000000</td>\n",
       "      <td>0.908114</td>\n",
       "      <td>0.014756</td>\n",
       "      <td>1.000000</td>\n",
       "      <td>1.000000</td>\n",
       "      <td>1.000000</td>\n",
       "      <td>0.819783</td>\n",
       "      <td>0.000000</td>\n",
       "      <td>0.029594</td>\n",
       "      <td>0.157524</td>\n",
       "      <td>1.000000</td>\n",
       "      <td>0.224414</td>\n",
       "    </tr>\n",
       "    <tr>\n",
       "      <th>jazz</th>\n",
       "      <td>0.934785</td>\n",
       "      <td>0.322818</td>\n",
       "      <td>0.734667</td>\n",
       "      <td>0.056904</td>\n",
       "      <td>0.000000</td>\n",
       "      <td>0.499250</td>\n",
       "      <td>0.042958</td>\n",
       "      <td>0.193439</td>\n",
       "      <td>0.185589</td>\n",
       "      <td>0.312113</td>\n",
       "      <td>0.177579</td>\n",
       "      <td>0.060724</td>\n",
       "      <td>0.081796</td>\n",
       "      <td>0.467071</td>\n",
       "    </tr>\n",
       "    <tr>\n",
       "      <th>latin</th>\n",
       "      <td>0.420186</td>\n",
       "      <td>0.687929</td>\n",
       "      <td>0.560561</td>\n",
       "      <td>0.550819</td>\n",
       "      <td>0.074133</td>\n",
       "      <td>0.000000</td>\n",
       "      <td>0.117132</td>\n",
       "      <td>0.205658</td>\n",
       "      <td>0.764925</td>\n",
       "      <td>0.398261</td>\n",
       "      <td>0.860009</td>\n",
       "      <td>0.072753</td>\n",
       "      <td>0.613763</td>\n",
       "      <td>0.904036</td>\n",
       "    </tr>\n",
       "    <tr>\n",
       "      <th>metal</th>\n",
       "      <td>0.000000</td>\n",
       "      <td>0.000000</td>\n",
       "      <td>0.783352</td>\n",
       "      <td>1.000000</td>\n",
       "      <td>0.347568</td>\n",
       "      <td>0.262100</td>\n",
       "      <td>0.590307</td>\n",
       "      <td>0.729645</td>\n",
       "      <td>1.000000</td>\n",
       "      <td>0.291357</td>\n",
       "      <td>0.826443</td>\n",
       "      <td>0.239952</td>\n",
       "      <td>0.811858</td>\n",
       "      <td>0.000000</td>\n",
       "    </tr>\n",
       "    <tr>\n",
       "      <th>other</th>\n",
       "      <td>0.688647</td>\n",
       "      <td>0.462272</td>\n",
       "      <td>0.210586</td>\n",
       "      <td>0.236637</td>\n",
       "      <td>0.135278</td>\n",
       "      <td>0.400501</td>\n",
       "      <td>0.309155</td>\n",
       "      <td>0.465729</td>\n",
       "      <td>0.353861</td>\n",
       "      <td>0.470090</td>\n",
       "      <td>0.000000</td>\n",
       "      <td>0.708208</td>\n",
       "      <td>0.255106</td>\n",
       "      <td>0.648512</td>\n",
       "    </tr>\n",
       "    <tr>\n",
       "      <th>pop</th>\n",
       "      <td>0.509566</td>\n",
       "      <td>0.441421</td>\n",
       "      <td>0.404897</td>\n",
       "      <td>0.434808</td>\n",
       "      <td>0.077843</td>\n",
       "      <td>0.108689</td>\n",
       "      <td>0.271339</td>\n",
       "      <td>0.235120</td>\n",
       "      <td>0.652281</td>\n",
       "      <td>0.478033</td>\n",
       "      <td>0.679415</td>\n",
       "      <td>0.097224</td>\n",
       "      <td>0.447506</td>\n",
       "      <td>0.656043</td>\n",
       "    </tr>\n",
       "    <tr>\n",
       "      <th>rock</th>\n",
       "      <td>0.345435</td>\n",
       "      <td>0.287757</td>\n",
       "      <td>0.565627</td>\n",
       "      <td>0.543576</td>\n",
       "      <td>0.026176</td>\n",
       "      <td>0.145716</td>\n",
       "      <td>0.209389</td>\n",
       "      <td>0.689278</td>\n",
       "      <td>0.597176</td>\n",
       "      <td>0.623507</td>\n",
       "      <td>0.620106</td>\n",
       "      <td>0.065888</td>\n",
       "      <td>0.651333</td>\n",
       "      <td>0.655548</td>\n",
       "    </tr>\n",
       "  </tbody>\n",
       "</table>\n",
       "</div>"
      ],
      "text/plain": [
       "            acousticness  danceability  duration_ms    energy  explicit  \\\n",
       "new_genres                                                                \n",
       "blues           0.866479      0.557447     0.000000  0.167150  0.002027   \n",
       "classical       1.000000      0.075248     0.370724  0.000000  0.002125   \n",
       "country         0.573479      0.544817     0.036055  0.343863  0.016925   \n",
       "hip hop         0.184016      1.000000     0.538859  0.630784  1.000000   \n",
       "house           0.018662      0.587577     1.000000  0.908114  0.014756   \n",
       "jazz            0.934785      0.322818     0.734667  0.056904  0.000000   \n",
       "latin           0.420186      0.687929     0.560561  0.550819  0.074133   \n",
       "metal           0.000000      0.000000     0.783352  1.000000  0.347568   \n",
       "other           0.688647      0.462272     0.210586  0.236637  0.135278   \n",
       "pop             0.509566      0.441421     0.404897  0.434808  0.077843   \n",
       "rock            0.345435      0.287757     0.565627  0.543576  0.026176   \n",
       "\n",
       "            instrumentalness       key  liveness  loudness      mode  \\\n",
       "new_genres                                                             \n",
       "blues               0.137323  0.251858  0.000000  0.424819  0.712389   \n",
       "classical           0.705637  0.000000  0.090288  0.000000  0.464438   \n",
       "country             0.013403  0.482507  0.145425  0.550836  1.000000   \n",
       "hip hop             0.048467  0.810183  0.614018  0.799882  0.185361   \n",
       "house               1.000000  1.000000  1.000000  0.819783  0.000000   \n",
       "jazz                0.499250  0.042958  0.193439  0.185589  0.312113   \n",
       "latin               0.000000  0.117132  0.205658  0.764925  0.398261   \n",
       "metal               0.262100  0.590307  0.729645  1.000000  0.291357   \n",
       "other               0.400501  0.309155  0.465729  0.353861  0.470090   \n",
       "pop                 0.108689  0.271339  0.235120  0.652281  0.478033   \n",
       "rock                0.145716  0.209389  0.689278  0.597176  0.623507   \n",
       "\n",
       "            popularity  speechiness     tempo   valence  \n",
       "new_genres                                               \n",
       "blues         0.143893     0.157532  0.331668  1.000000  \n",
       "classical     0.031553     0.206725  0.000000  0.169369  \n",
       "country       0.608253     0.000000  0.468294  0.800091  \n",
       "hip hop       1.000000     1.000000  0.208516  0.752957  \n",
       "house         0.029594     0.157524  1.000000  0.224414  \n",
       "jazz          0.177579     0.060724  0.081796  0.467071  \n",
       "latin         0.860009     0.072753  0.613763  0.904036  \n",
       "metal         0.826443     0.239952  0.811858  0.000000  \n",
       "other         0.000000     0.708208  0.255106  0.648512  \n",
       "pop           0.679415     0.097224  0.447506  0.656043  \n",
       "rock          0.620106     0.065888  0.651333  0.655548  "
      ]
     },
     "execution_count": 5,
     "metadata": {},
     "output_type": "execute_result"
    }
   ],
   "source": [
    "#Code adapted from https://github.com/christianlomboy\n",
    "normalize = variance_qualities.apply(lambda x: (x - x.min())/(x.max() - x.min()), axis=0)\n",
    "normalize"
   ]
  },
  {
   "cell_type": "markdown",
   "metadata": {},
   "source": [
    "From above, we can gauge a few things. Firstly, we see that *hip hop* has a high level of *speechiness*, as well as *danceability*, *popularity* and *explicitness*. These things are typically common in hip hop songs. \n",
    "\n",
    "*House* music has high levels in *instrumentalness, key, liveness and tempo*.\n",
    "\n",
    "*Metal* music has high energy and loudness, which is consistent with the qualities of this genre. We can infer that all genres have attribute levels specfic to them."
   ]
  },
  {
   "cell_type": "markdown",
   "metadata": {},
   "source": [
    "# Modeling\n",
    "\n",
    "For my baseline model, I will be using Decision Tree Classifiying to help in informing me of which columns play a part in classifying my data. I am choosing this because a decision tree model does not require scaling and the model is generally extremely intuitive. I will also use the bagging method to help in creating an ensemble of multiple models that will combine to build an overall model. Based on these results, I will explore other modeling methods and hyperparameters. I will be setting my n_estimators to 100. "
   ]
  },
  {
   "cell_type": "code",
   "execution_count": 6,
   "metadata": {},
   "outputs": [],
   "source": [
    "#Defining my features and standardizing\n",
    "X = audio_feats.drop(['artists', 'new_genres', 'name'], axis=1)\n",
    "\n",
    "#define our y\n",
    "le = LabelEncoder()\n",
    "y = le.fit_transform(audio_feats['new_genres'])\n",
    "\n",
    "#train test split of the data\n",
    "X_train, X_test, y_train, y_test = train_test_split(X, y, test_size=.3, stratify=y, random_state=42)\n",
    "\n"
   ]
  },
  {
   "cell_type": "code",
   "execution_count": 89,
   "metadata": {},
   "outputs": [],
   "source": [
    "#A portion of this code was adapted from https://www.datatechnotes.com/\n",
    "\n",
    "dc = DecisionTreeClassifier(criterion=\"entropy\", max_depth=7)\n",
    "bag = BaggingClassifier(base_estimator=dc, n_estimators=100, max_samples=0.8, bootstrap=True)\n",
    "bag = bag.fit(X_train, y_train)"
   ]
  },
  {
   "cell_type": "markdown",
   "metadata": {},
   "source": [
    "These are the predictions and accuracy of our baseline model. This score is at 51%, but it is not overfit. It is very low though, so we will try other classifiers."
   ]
  },
  {
   "cell_type": "code",
   "execution_count": 90,
   "metadata": {},
   "outputs": [
    {
     "name": "stdout",
     "output_type": "stream",
     "text": [
      "Testing Accuracy 0.5125518445754202\n",
      "Training Accuracy 0.522962577962578\n"
     ]
    }
   ],
   "source": [
    "#These are the predictions and accuracy of our baseline model. \n",
    "#This score is at 51%, but it is not overfit. It is very low though, so We will try other classifiers\n",
    "\n",
    "print(f'Testing Accuracy {bag.score(X_test, y_test)}')\n",
    "print(f'Training Accuracy {bag.score(X_train, y_train)}')"
   ]
  },
  {
   "cell_type": "markdown",
   "metadata": {},
   "source": [
    "Our model is testing quite poorly, though we've eliminated our overfitting. In order to combat this, I will be revisiting my data and combining the lowest 4 classes. With our scores being so low, we can gauge that it is our features that are causing the low output.\n",
    "\n",
    "From the steps below, we know we have 4 values that classify as minority classes. These values are classical, blues, latin and house. We deem them minorities because they have less than .02 weight each. Below, we will combine these classes to pick up more signal during our modeling. It is important to note that these 4 genres are \"main genre categories\". That is why they were not grouped into the \"others\" class. The \"others\" class consists of multiple niche genres, and to keep them separate, this distinction needs to be apparent."
   ]
  },
  {
   "cell_type": "code",
   "execution_count": 8,
   "metadata": {},
   "outputs": [
    {
     "data": {
      "text/plain": [
       "other                          0.345407\n",
       "rock                           0.247335\n",
       "pop                            0.168160\n",
       "jazz                           0.092935\n",
       "house/latin/classical/blues    0.051663\n",
       "country                        0.047937\n",
       "hip hop                        0.026552\n",
       "metal                          0.020010\n",
       "Name: new_genres, dtype: float64"
      ]
     },
     "execution_count": 8,
     "metadata": {},
     "output_type": "execute_result"
    }
   ],
   "source": [
    "audio_feats['new_genres'] = audio_feats['new_genres'].replace(['house','latin', 'classical', 'blues'],'house/latin/classical/blues')\n",
    "\n",
    "pd.Series(audio_feats['new_genres']).value_counts(normalize=True) #Here is where we can see the unbalanced classses."
   ]
  },
  {
   "cell_type": "markdown",
   "metadata": {},
   "source": [
    "## Modeling To Improve Score"
   ]
  },
  {
   "cell_type": "markdown",
   "metadata": {},
   "source": [
    "Below, we will be trying an array of methods to improve our training and testing score, while keeping overfitting low."
   ]
  },
  {
   "cell_type": "code",
   "execution_count": 94,
   "metadata": {},
   "outputs": [
    {
     "data": {
      "text/plain": [
       "DecisionTreeClassifier(max_depth=7, random_state=42)"
      ]
     },
     "execution_count": 94,
     "metadata": {},
     "output_type": "execute_result"
    }
   ],
   "source": [
    "#Decision tree model without bagging.\n",
    "dc = DecisionTreeClassifier(criterion=\"gini\", max_depth=7, random_state=42) #A max depth of 7 seems to provide us with the highest score and the least overfitting.\n",
    "dc.fit(X_train, y_train)"
   ]
  },
  {
   "cell_type": "code",
   "execution_count": 95,
   "metadata": {},
   "outputs": [],
   "source": [
    "dc_preds = dc.predict(X_test)"
   ]
  },
  {
   "cell_type": "code",
   "execution_count": 96,
   "metadata": {},
   "outputs": [
    {
     "name": "stdout",
     "output_type": "stream",
     "text": [
      "Testing Accuracy 0.5067549540372068\n",
      "Training Accuracy 0.515914760914761\n"
     ]
    }
   ],
   "source": [
    "print(f'Testing Accuracy {dc.score(X_test, y_test)}')\n",
    "print(f'Training Accuracy {dc.score(X_train, y_train)}')"
   ]
  },
  {
   "cell_type": "markdown",
   "metadata": {},
   "source": [
    "There is a tiny amount of overfit, but it isn't too noticeable. The score is extremely low here even still... We will adjust further hyper parameters and models to see if we can raise the score.\n"
   ]
  },
  {
   "cell_type": "markdown",
   "metadata": {},
   "source": [
    "#### Random Forest Model with Cross-validation\n",
    "\n",
    "I will now switch to using a random forest classifier. I want to stay on trend and because Random Forests are bagged decision trees, I am essentially still utilizing the decision tree model method, except, the random forest will split on a randomized subset of features."
   ]
  },
  {
   "cell_type": "code",
   "execution_count": 36,
   "metadata": {},
   "outputs": [],
   "source": [
    "sc = StandardScaler() #Scaled the data to see if this helps our model.\n",
    "X_train_sc = sc.fit_transform(X_train) #Fit and transformed the X_train data\n",
    "X_test_sc = sc.transform(X_test) "
   ]
  },
  {
   "cell_type": "code",
   "execution_count": 56,
   "metadata": {},
   "outputs": [],
   "source": [
    "rf = RandomForestClassifier(n_estimators=400, random_state=42)\n",
    "cvs = cross_val_score(estimator=rf, X=X_train_sc, y=y_train, cv=5)"
   ]
  },
  {
   "cell_type": "code",
   "execution_count": 55,
   "metadata": {},
   "outputs": [
    {
     "name": "stdout",
     "output_type": "stream",
     "text": [
      "Training Accuracy 0.5954677754677754\n",
      "Standard Dev 0.002610037866523898\n"
     ]
    }
   ],
   "source": [
    "print(f'Training Accuracy {cvs.mean()}') \n",
    "print(f'Standard Dev {cvs.std()}') #Our standard dev is very low, which is an indication that our model isn't doing so well."
   ]
  },
  {
   "cell_type": "markdown",
   "metadata": {},
   "source": [
    "Our random forest score is better than our decision tree score reaching 59% but it is still low. Lets see if we can increase it to above 60%"
   ]
  },
  {
   "cell_type": "code",
   "execution_count": 98,
   "metadata": {},
   "outputs": [
    {
     "name": "stdout",
     "output_type": "stream",
     "text": [
      "Testing Accuracy 0.5146135002061656\n",
      "Training Accuracy 0.5207276507276507\n"
     ]
    }
   ],
   "source": [
    "#Modeling random forest without cross validation and on unscaled data\n",
    "rfc = RandomForestClassifier(n_estimators=400, random_state=42, max_depth=7) #A max depth of 7 seems to rovide us with the highest score and the least overfitting.\n",
    "rfc.fit(X_train_sc, y_train)\n",
    "\n",
    "print(f'Testing Accuracy {rfc.score(X_test_sc, y_test)}')\n",
    "print(f'Training Accuracy {rfc.score(X_train_sc, y_train)}') #We have a slight improvment from our baseline score here"
   ]
  },
  {
   "cell_type": "markdown",
   "metadata": {},
   "source": [
    "## Modeling with Additional Features Removed - GridSearch\n",
    "\n",
    "Below, I will perform a train test split with the removal of more features that do not impact our data as much. These features were chosen, based on the relationships in our correlation plot from our EDA. The additonal removed features are: key, liveness and mode.\n",
    "\n",
    "I will also be adding a Grid Search component. I am choosing to do this so that I can produce the optimum values using my hyperparameters. I am expecting this to increase my scores. \n"
   ]
  },
  {
   "cell_type": "code",
   "execution_count": 13,
   "metadata": {},
   "outputs": [],
   "source": [
    "#Defining my features and standardizing. \"ft\" denotes the newly made X, y with more features removed\n",
    "X_ft = audio_feats.drop(['artists', 'new_genres', 'name', 'key', 'liveness', 'mode'], axis=1)\n",
    "\n",
    "#define our y and encode it.\n",
    "le = LabelEncoder()\n",
    "y_ft = le.fit_transform(audio_feats['new_genres'])\n",
    "\n",
    "#train test split of the data\n",
    "X_train_ft, X_test_ft, y_train_ft, y_test_ft = train_test_split(X_ft, y_ft, test_size=.3, stratify=y, random_state=42)\n",
    "\n"
   ]
  },
  {
   "cell_type": "code",
   "execution_count": 27,
   "metadata": {},
   "outputs": [],
   "source": [
    "#Creating a dictionary to map the genres to their encoded elements\n",
    "\n",
    "gen_dict = {'other': 0,\n",
    "           'rock' : 1,\n",
    "            'pop' : 2,\n",
    "            'jazz' : 3,\n",
    "            'house/latin/classical/blues' : 4,\n",
    "            'country' : 5,\n",
    "            'hip hop' : 6,\n",
    "            'metal' : 7\n",
    "            }"
   ]
  },
  {
   "cell_type": "code",
   "execution_count": 14,
   "metadata": {},
   "outputs": [],
   "source": [
    "rf= RandomForestClassifier()\n",
    "\n",
    "#setting params\n",
    "params = {\n",
    "    'n_estimators' : [100, 120], #Keeping on trend with our n_estimators\n",
    "    'max_depth' : [1,7,10,15], \n",
    "    'min_samples_split' : [2, 3],\n",
    "    'min_samples_leaf' : [3, 5],\n",
    "    'class_weight' : [{0: 1, 1: 1}, {0: 1, 1: 5}, {0:1, 1:1}] #Using the scikit-learn suggested weights\n",
    "    \n",
    "}\n",
    "\n",
    "#Now we will use grid search to see what scores we achieve here...\n",
    "\n",
    "rf_gs = GridSearchCV(rf, param_grid=params, cv= 5)\n",
    "rf_gs.fit(X_train_ft, y_train_ft);"
   ]
  },
  {
   "cell_type": "code",
   "execution_count": 18,
   "metadata": {},
   "outputs": [
    {
     "name": "stdout",
     "output_type": "stream",
     "text": [
      "Random Forest Train score 0.7058939708939709\n",
      "Random Forest Test score 0.5728977176259429\n"
     ]
    }
   ],
   "source": [
    "print('Random Forest Train score', rf_gs.score(X_train_ft, y_train_ft))\n",
    "print('Random Forest Test score', rf_gs.score(X_test_ft, y_test_ft))"
   ]
  },
  {
   "cell_type": "code",
   "execution_count": 25,
   "metadata": {},
   "outputs": [],
   "source": [
    "pred = rf_gs.predict(X_test_ft)"
   ]
  },
  {
   "cell_type": "code",
   "execution_count": 23,
   "metadata": {},
   "outputs": [
    {
     "data": {
      "text/plain": [
       "RandomForestClassifier(class_weight={0: 1, 1: 1}, max_depth=15,\n",
       "                       min_samples_leaf=3)"
      ]
     },
     "execution_count": 23,
     "metadata": {},
     "output_type": "execute_result"
    }
   ],
   "source": [
    "rf_gs.best_estimator_ #This is the best estimator based on this gridsearch for Random Forest."
   ]
  },
  {
   "cell_type": "code",
   "execution_count": 17,
   "metadata": {},
   "outputs": [],
   "source": [
    "#Saving our model so we don't need to rerun it next time.\n",
    "\n",
    "rf_grid_mod = 'rf_model.sav'\n",
    "pickle.dump(rf_gs, open(rf_grid_mod, 'wb'))"
   ]
  },
  {
   "cell_type": "markdown",
   "metadata": {},
   "source": [
    "After running our random forest pipeline using GridSearch, we have achieved a higher training score, however, our testing score is still very low and there is evidence of much overfitting going on. Our test score is almost 13% lower than our train score. Generally, gridsearch is efficient in helping us find better scores. This final model leads me to believe that it is indeed our genre classification methods and our features that affected the scores."
   ]
  },
  {
   "cell_type": "code",
   "execution_count": 26,
   "metadata": {},
   "outputs": [
    {
     "name": "stdout",
     "output_type": "stream",
     "text": [
      "              precision    recall  f1-score   support\n",
      "\n",
      "           0       0.60      0.07      0.13      1976\n",
      "           1       0.65      0.61      0.63      1095\n",
      "           2       0.71      0.06      0.11      2130\n",
      "           3       0.59      0.48      0.53      3832\n",
      "           4       0.68      0.30      0.42       825\n",
      "           5       0.65      0.74      0.69     14241\n",
      "           6       0.47      0.30      0.37      6933\n",
      "           7       0.51      0.77      0.62     10197\n",
      "\n",
      "    accuracy                           0.57     41229\n",
      "   macro avg       0.61      0.42      0.44     41229\n",
      "weighted avg       0.58      0.57      0.54     41229\n",
      "\n"
     ]
    }
   ],
   "source": [
    "print(classification_report(y_test_ft, pred))"
   ]
  },
  {
   "cell_type": "code",
   "execution_count": 24,
   "metadata": {},
   "outputs": [
    {
     "data": {
      "image/png": "[encoded data removed]",
      "text/plain": [
       "<Figure size 432x288 with 2 Axes>"
      ]
     },
     "metadata": {
      "needs_background": "light"
     },
     "output_type": "display_data"
    }
   ],
   "source": [
    "class_names = audio_feats['new_genres'] #Random Forest Grid Search - confusion matrix.\n",
    "plot_confusion_matrix(rf_gs, X_test_ft, y_test_ft, cmap='Purples');"
   ]
  },
  {
   "cell_type": "markdown",
   "metadata": {},
   "source": [
    "# Conclusions and Analysis\n",
    "\n",
    "Our best model for our genre classification using audio attributes ended up being the Random Forest Classifier. Our final train score was at 70% while our test score was at 57%. Our best model was still overfit by 13%, and though we tried an array of different methods and hyperparameter tuning to increase our score, there was little to no improvment.\n",
    "In reviewing our classification report, the precision of our model's predictions are generally higher than our recall outside of values 5 and 7 (metal and country). Our recall for 'other' (0), is very bad, almost at 0. This means our model didn't score right at all when it came to classifying that genre and we virtually got 0 songs correct. Our F1 scores are also low, which means our classifier did not output good results.\n",
    "\n",
    "In reviewing our EDA elements we can see that our features were what largely impacted the models performance. Even after adjusting hyperparameters, our model's score was still relatively the same. To combat this, I adjusted the features further, but the results still came out similarly.\n",
    "\n",
    "## Recommendations and Next Steps\n",
    "\n",
    "The next steps for our audio classifier would be to revisit our features and genre classes and how they were classified. The classification system used can be improved by exploring the audio quality levels themselves and classifiying the songs by these levels. Largely, what we would need to improve is how we explore our features and the methods used to feed into the model."
   ]
  }
 ],
 "metadata": {
  "kernelspec": {
   "display_name": "Python [conda env:dsi]",
   "language": "python",
   "name": "conda-env-dsi-py"
  },
  "language_info": {
   "codemirror_mode": {
    "name": "ipython",
    "version": 3
   },
   "file_extension": ".py",
   "mimetype": "text/x-python",
   "name": "python",
   "nbconvert_exporter": "python",
   "pygments_lexer": "ipython3",
   "version": "3.8.8"
  }
 },
 "nbformat": 4,
 "nbformat_minor": 4
}

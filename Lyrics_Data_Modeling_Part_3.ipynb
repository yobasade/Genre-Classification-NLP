{
 "cells": [
  {
   "cell_type": "markdown",
   "metadata": {},
   "source": [
    "# EDA and Modeling\n",
    "\n",
    "This notebook will focus on exploring our lyrics dataset and creating our model for our lyrics classifier. Analysis on model performance and expectations will be present throughout."
   ]
  },
  {
   "cell_type": "code",
   "execution_count": 1,
   "metadata": {},
   "outputs": [],
   "source": [
    "import pandas as pd\n",
    "import re\n",
    "import seaborn as sns\n",
    "import numpy as np\n",
    "import matplotlib.pyplot as plt\n",
    "import collections\n",
    "import random\n",
    "import time\n",
    "import itertools\n",
    "import nltk\n",
    "import string\n",
    "import ast \n",
    "import gensim\n",
    "import plotly\n",
    "import plotly.graph_objs as go\n",
    "%matplotlib inline\n",
    "\n",
    "\n",
    "from sklearn.decomposition import PCA\n",
    "from sklearn.manifold import TSNE\n",
    "from sklearn import tree\n",
    "from sklearn.preprocessing import LabelEncoder\n",
    "from collections import Counter\n",
    "from sklearn.ensemble import BaggingClassifier\n",
    "from nltk.sentiment.vader import SentimentIntensityAnalyzer\n",
    "from textblob import TextBlob\n",
    "from nltk import pos_tag\n",
    "from gensim.models.doc2vec import Doc2Vec, TaggedDocument\n",
    "from nltk.stem import PorterStemmer\n",
    "from pprint import pprint\n",
    "from sklearn.model_selection import train_test_split, GridSearchCV, cross_val_score\n",
    "from sklearn.linear_model import LogisticRegression\n",
    "from sklearn.metrics import confusion_matrix, classification_report, accuracy_score\n",
    "from sklearn.pipeline import make_pipeline, Pipeline\n",
    "from sklearn.preprocessing import StandardScaler\n",
    "from sklearn.svm import SVC, LinearSVC\n",
    "from sklearn.ensemble import RandomForestClassifier, AdaBoostClassifier, VotingClassifier\n",
    "from sklearn.tree import DecisionTreeClassifier\n",
    "from sklearn.metrics import plot_confusion_matrix\n",
    "from sklearn.feature_extraction.text import TfidfVectorizer\n",
    "from gensim.models import Word2Vec, KeyedVectors\n",
    "from sklearn.naive_bayes import MultinomialNB\n",
    "from bokeh.models import ColumnDataSource\n",
    "from bokeh.models import HoverTool, BoxSelectTool\n",
    "from bokeh.plotting import figure, show, output_notebook, reset_output\n",
    "from bokeh.palettes import d3\n",
    "import bokeh.models as bmo\n",
    "from bokeh.io import save, output_file\n",
    "from sklearn.manifold import TSNE"
   ]
  },
  {
   "cell_type": "markdown",
   "metadata": {},
   "source": [
    "Reloading our model"
   ]
  },
  {
   "cell_type": "code",
   "execution_count": null,
   "metadata": {},
   "outputs": [],
   "source": [
    "model_doc = Doc2Vec.load(r'C:\\Users\\Fib0nacci\\Desktop\\doc2vec.model') #Reloading our model"
   ]
  },
  {
   "cell_type": "code",
   "execution_count": 24,
   "metadata": {},
   "outputs": [
    {
     "name": "stdout",
     "output_type": "stream",
     "text": [
      "[-2.8193034e-03 -4.5900457e-03 -8.6133834e-03  6.7437263e-03\n",
      "  1.4861921e-03 -3.8491181e-04 -3.0308836e-03 -3.7900792e-03\n",
      " -7.2661246e-04 -5.1474189e-03  6.4379019e-03  4.0894968e-04\n",
      " -8.7951319e-03  8.4061520e-03 -1.9734043e-03 -4.7886688e-03\n",
      " -3.5051818e-03  9.4960555e-03 -2.5042426e-04 -2.9409265e-03\n",
      "  3.9216005e-03  6.4020315e-03 -5.1882993e-03 -7.6486203e-03\n",
      " -5.4829717e-03  2.8772005e-03  9.4751706e-03  5.5605960e-03\n",
      " -7.0150779e-03 -2.6032517e-03 -2.5021818e-03 -4.8330887e-03\n",
      " -6.5898560e-03  6.0743992e-03 -6.5941624e-03 -7.6210983e-03\n",
      " -3.7697426e-03 -4.5107184e-03  4.5187967e-03 -9.5646217e-05\n",
      "  1.9093503e-03  3.5764819e-03 -2.8145763e-03 -5.5646449e-03\n",
      "  7.9427762e-03  8.9559291e-04 -9.7134067e-03 -4.4014147e-03\n",
      " -5.7344878e-04  4.3869442e-03]\n",
      "Time taken to create doc2vec vectors: 0.004987239837646484\n"
     ]
    }
   ],
   "source": [
    "strt_time = time.time()\n",
    "\n",
    "vector = model_doc.infer_vector(['lyrics_cleaned']) #This line of code takes a list of string tokens to infer.\n",
    "\n",
    "print(vector)\n",
    "print(\"Time taken to create doc2vec vectors: \" + str(time.time() - strt_time))"
   ]
  },
  {
   "cell_type": "code",
   "execution_count": 301,
   "metadata": {},
   "outputs": [
    {
     "name": "stdout",
     "output_type": "stream",
     "text": [
      "[('layering', 0.5639477968215942), ('empanada', 0.5403931736946106), ('miendamon', 0.5383723974227905), ('ensaladas', 0.5382735729217529), ('federales', 0.536660373210907), ('uwasa', 0.5329006314277649), ('dieta', 0.5163031816482544), ('bakriyon', 0.5093613862991333), ('kaun', 0.5042240619659424), ('scampi', 0.49949026107788086)]\n"
     ]
    }
   ],
   "source": [
    "docvec = model_doc.docvecs[3]  #Lets look at the top most similar words among docs.\n",
    "similar_words =  model_doc.wv.most_similar(positive=[docvec])\n",
    "print(similar_words)"
   ]
  },
  {
   "cell_type": "markdown",
   "metadata": {},
   "source": [
    "## Visualization\n",
    "\n",
    "To visualize my doc2vec model, I will be using t-SNE. I chose this to better visualize my high dimensional vectors. I will be utlizing the Bokeh library and the go library. I want to see the pattern of spaces these words occupies and the plots below will create a visualization of such"
   ]
  },
  {
   "cell_type": "code",
   "execution_count": 1,
   "metadata": {},
   "outputs": [],
   "source": [
    "tsne_model = TSNE(n_jobs=4, n_components=2, verbose=1, random_state=42, n_iter=300)\n",
    "\n",
    "tsne = tsne_model.fit_transform(model_doc.docvecs.vectors_docs)\n",
    "\n",
    "tsne_df = pd.DataFrame(data=tsne, columns=['x', 'y'])\n",
    "\n",
    "tsne_df['artists'] = lyrics_df['artists'].values\n",
    "tsne_df['popularity'] = lyrics_df['popularity'].values\n",
    "tsne_df['artists'] = lyrics_df['artists'].values\n",
    "tsne_df['name'] = lyrics_df['name'].values\n",
    "tsne_df['artists'] = lyrics_df['artists'].values\n",
    "tsne_df['genres'] = lyrics_df['genres'].values\n",
    "tsne_df['lyrics_cleaned'] = lyrics_df['lyrics_cleaned'].values\n"
   ]
  },
  {
   "cell_type": "markdown",
   "metadata": {},
   "source": [
    "# 2D Visualization\n",
    "I have input some random words that have appeared more frequently in our documents.I want to view the words similar to them in dimensional space. The closer the words, the more simiar."
   ]
  },
  {
   "cell_type": "code",
   "execution_count": 206,
   "metadata": {},
   "outputs": [],
   "source": [
    "#This plot will give us a t-SNE visualization of our words across our doc2vec model. We will be able to see what this model looks like in space.\n",
    "#The visualization codes below were adapted from Ruben Winastwan \n",
    "def append_list(sim_words, words):\n",
    "    \n",
    "    list_of_words = []\n",
    "    \n",
    "    for i in range(len(sim_words)):\n",
    "        \n",
    "        sim_words_list = list(sim_words[i])\n",
    "        sim_words_list.append(words)\n",
    "        sim_words_tuple = tuple(sim_words_list)\n",
    "        list_of_words.append(sim_words_tuple)\n",
    "        \n",
    "    return list_of_words\n",
    "\n",
    "input_word = ['love', 'future', 'roll']\n",
    "user_input = [x.strip() for x in input_word]\n",
    "result_word = []\n",
    "    \n",
    "for words in user_input:\n",
    "    \n",
    "        sim_words = model_doc.wv.most_similar(words, topn = 5)\n",
    "        sim_words = append_list(sim_words, words)\n",
    "            \n",
    "        result_word.extend(sim_words)\n",
    "    \n",
    "similar_word = [word[0] for word in result_word]\n",
    "similarity = [word[1] for word in result_word] \n",
    "similar_word.extend(user_input)\n",
    "labels = [word[2] for word in result_word]\n",
    "label_dict = dict([(y,x+1) for x,y in enumerate(set(labels))])\n",
    "color_map = [label_dict[x] for x in labels]"
   ]
  },
  {
   "cell_type": "code",
   "execution_count": 207,
   "metadata": {
    "scrolled": false
   },
   "outputs": [
    {
     "data": {
      "application/vnd.plotly.v1+json": {
       "config": {
        "plotlyServerURL": "https://plot.ly"
       },
       "data": [
        {
         "marker": {
          "color": 2,
          "opacity": 0.8,
          "size": 10
         },
         "mode": "markers+text",
         "name": "love",
         "text": [
          "know",
          "heart",
          "one",
          "cause",
          "always"
         ],
         "textfont": {
          "size": 20
         },
         "textposition": "top center",
         "type": "scatter",
         "x": [
          12.476386070251465,
          -52.77877426147461,
          18.72102165222168,
          46.14103317260742,
          22.45147705078125
         ],
         "y": [
          21.314489364624023,
          53.61756134033203,
          56.58918380737305,
          27.91375160217285,
          -7.3240509033203125
         ]
        },
        {
         "marker": {
          "color": 2,
          "opacity": 0.8,
          "size": 10
         },
         "mode": "markers+text",
         "name": "future",
         "text": [
          "life",
          "tomorrow",
          "hope",
          "lines",
          "things"
         ],
         "textfont": {
          "size": 20
         },
         "textposition": "top center",
         "type": "scatter",
         "x": [
          -14.613425254821777,
          -41.06574630737305,
          32.63114547729492,
          -9.715158462524414,
          3.1875712871551514
         ],
         "y": [
          34.74281311035156,
          20.55350112915039,
          -47.71076965332031,
          -65.3507080078125,
          -30.696495056152344
         ]
        },
        {
         "marker": {
          "color": 2,
          "opacity": 0.8,
          "size": 10
         },
         "mode": "markers+text",
         "name": "roll",
         "text": [
          "rock",
          "let",
          "go",
          "rolling",
          "shake"
         ],
         "textfont": {
          "size": 20
         },
         "textposition": "top center",
         "type": "scatter",
         "x": [
          -77.62909698486328,
          -17.986679077148438,
          -13.023953437805176,
          55.3222541809082,
          -45.79281234741211
         ],
         "y": [
          -17.928159713745117,
          68.63137817382812,
          -1.018700361251831,
          -11.7778959274292,
          -9.62904167175293
         ]
        },
        {
         "marker": {
          "color": "black",
          "opacity": 1,
          "size": 10
         },
         "mode": "markers+text",
         "name": "input words",
         "text": [
          "love",
          "future",
          "roll"
         ],
         "textfont": {
          "size": 20
         },
         "textposition": "top center",
         "type": "scatter",
         "x": [
          -76.01111602783203,
          -55.133262634277344,
          -27.017953872680664
         ],
         "y": [
          20.82903289794922,
          -51.84713363647461,
          -33.63140869140625
         ]
        }
       ],
       "layout": {
        "autosize": false,
        "font": {
         "family": " Courier New ",
         "size": 10
        },
        "height": 600,
        "legend": {
         "font": {
          "color": "black",
          "family": "Courier New",
          "size": 15
         },
         "x": 1,
         "y": 0.5
        },
        "margin": {
         "b": 0,
         "l": 0,
         "r": 0,
         "t": 0
        },
        "showlegend": true,
        "template": {
         "data": {
          "bar": [
           {
            "error_x": {
             "color": "#2a3f5f"
            },
            "error_y": {
             "color": "#2a3f5f"
            },
            "marker": {
             "line": {
              "color": "#E5ECF6",
              "width": 0.5
             }
            },
            "type": "bar"
           }
          ],
          "barpolar": [
           {
            "marker": {
             "line": {
              "color": "#E5ECF6",
              "width": 0.5
             }
            },
            "type": "barpolar"
           }
          ],
          "carpet": [
           {
            "aaxis": {
             "endlinecolor": "#2a3f5f",
             "gridcolor": "white",
             "linecolor": "white",
             "minorgridcolor": "white",
             "startlinecolor": "#2a3f5f"
            },
            "baxis": {
             "endlinecolor": "#2a3f5f",
             "gridcolor": "white",
             "linecolor": "white",
             "minorgridcolor": "white",
             "startlinecolor": "#2a3f5f"
            },
            "type": "carpet"
           }
          ],
          "choropleth": [
           {
            "colorbar": {
             "outlinewidth": 0,
             "ticks": ""
            },
            "type": "choropleth"
           }
          ],
          "contour": [
           {
            "colorbar": {
             "outlinewidth": 0,
             "ticks": ""
            },
            "colorscale": [
             [
              0,
              "#0d0887"
             ],
             [
              0.1111111111111111,
              "#46039f"
             ],
             [
              0.2222222222222222,
              "#7201a8"
             ],
             [
              0.3333333333333333,
              "#9c179e"
             ],
             [
              0.4444444444444444,
              "#bd3786"
             ],
             [
              0.5555555555555556,
              "#d8576b"
             ],
             [
              0.6666666666666666,
              "#ed7953"
             ],
             [
              0.7777777777777778,
              "#fb9f3a"
             ],
             [
              0.8888888888888888,
              "#fdca26"
             ],
             [
              1,
              "#f0f921"
             ]
            ],
            "type": "contour"
           }
          ],
          "contourcarpet": [
           {
            "colorbar": {
             "outlinewidth": 0,
             "ticks": ""
            },
            "type": "contourcarpet"
           }
          ],
          "heatmap": [
           {
            "colorbar": {
             "outlinewidth": 0,
             "ticks": ""
            },
            "colorscale": [
             [
              0,
              "#0d0887"
             ],
             [
              0.1111111111111111,
              "#46039f"
             ],
             [
              0.2222222222222222,
              "#7201a8"
             ],
             [
              0.3333333333333333,
              "#9c179e"
             ],
             [
              0.4444444444444444,
              "#bd3786"
             ],
             [
              0.5555555555555556,
              "#d8576b"
             ],
             [
              0.6666666666666666,
              "#ed7953"
             ],
             [
              0.7777777777777778,
              "#fb9f3a"
             ],
             [
              0.8888888888888888,
              "#fdca26"
             ],
             [
              1,
              "#f0f921"
             ]
            ],
            "type": "heatmap"
           }
          ],
          "heatmapgl": [
           {
            "colorbar": {
             "outlinewidth": 0,
             "ticks": ""
            },
            "colorscale": [
             [
              0,
              "#0d0887"
             ],
             [
              0.1111111111111111,
              "#46039f"
             ],
             [
              0.2222222222222222,
              "#7201a8"
             ],
             [
              0.3333333333333333,
              "#9c179e"
             ],
             [
              0.4444444444444444,
              "#bd3786"
             ],
             [
              0.5555555555555556,
              "#d8576b"
             ],
             [
              0.6666666666666666,
              "#ed7953"
             ],
             [
              0.7777777777777778,
              "#fb9f3a"
             ],
             [
              0.8888888888888888,
              "#fdca26"
             ],
             [
              1,
              "#f0f921"
             ]
            ],
            "type": "heatmapgl"
           }
          ],
          "histogram": [
           {
            "marker": {
             "colorbar": {
              "outlinewidth": 0,
              "ticks": ""
             }
            },
            "type": "histogram"
           }
          ],
          "histogram2d": [
           {
            "colorbar": {
             "outlinewidth": 0,
             "ticks": ""
            },
            "colorscale": [
             [
              0,
              "#0d0887"
             ],
             [
              0.1111111111111111,
              "#46039f"
             ],
             [
              0.2222222222222222,
              "#7201a8"
             ],
             [
              0.3333333333333333,
              "#9c179e"
             ],
             [
              0.4444444444444444,
              "#bd3786"
             ],
             [
              0.5555555555555556,
              "#d8576b"
             ],
             [
              0.6666666666666666,
              "#ed7953"
             ],
             [
              0.7777777777777778,
              "#fb9f3a"
             ],
             [
              0.8888888888888888,
              "#fdca26"
             ],
             [
              1,
              "#f0f921"
             ]
            ],
            "type": "histogram2d"
           }
          ],
          "histogram2dcontour": [
           {
            "colorbar": {
             "outlinewidth": 0,
             "ticks": ""
            },
            "colorscale": [
             [
              0,
              "#0d0887"
             ],
             [
              0.1111111111111111,
              "#46039f"
             ],
             [
              0.2222222222222222,
              "#7201a8"
             ],
             [
              0.3333333333333333,
              "#9c179e"
             ],
             [
              0.4444444444444444,
              "#bd3786"
             ],
             [
              0.5555555555555556,
              "#d8576b"
             ],
             [
              0.6666666666666666,
              "#ed7953"
             ],
             [
              0.7777777777777778,
              "#fb9f3a"
             ],
             [
              0.8888888888888888,
              "#fdca26"
             ],
             [
              1,
              "#f0f921"
             ]
            ],
            "type": "histogram2dcontour"
           }
          ],
          "mesh3d": [
           {
            "colorbar": {
             "outlinewidth": 0,
             "ticks": ""
            },
            "type": "mesh3d"
           }
          ],
          "parcoords": [
           {
            "line": {
             "colorbar": {
              "outlinewidth": 0,
              "ticks": ""
             }
            },
            "type": "parcoords"
           }
          ],
          "pie": [
           {
            "automargin": true,
            "type": "pie"
           }
          ],
          "scatter": [
           {
            "marker": {
             "colorbar": {
              "outlinewidth": 0,
              "ticks": ""
             }
            },
            "type": "scatter"
           }
          ],
          "scatter3d": [
           {
            "line": {
             "colorbar": {
              "outlinewidth": 0,
              "ticks": ""
             }
            },
            "marker": {
             "colorbar": {
              "outlinewidth": 0,
              "ticks": ""
             }
            },
            "type": "scatter3d"
           }
          ],
          "scattercarpet": [
           {
            "marker": {
             "colorbar": {
              "outlinewidth": 0,
              "ticks": ""
             }
            },
            "type": "scattercarpet"
           }
          ],
          "scattergeo": [
           {
            "marker": {
             "colorbar": {
              "outlinewidth": 0,
              "ticks": ""
             }
            },
            "type": "scattergeo"
           }
          ],
          "scattergl": [
           {
            "marker": {
             "colorbar": {
              "outlinewidth": 0,
              "ticks": ""
             }
            },
            "type": "scattergl"
           }
          ],
          "scattermapbox": [
           {
            "marker": {
             "colorbar": {
              "outlinewidth": 0,
              "ticks": ""
             }
            },
            "type": "scattermapbox"
           }
          ],
          "scatterpolar": [
           {
            "marker": {
             "colorbar": {
              "outlinewidth": 0,
              "ticks": ""
             }
            },
            "type": "scatterpolar"
           }
          ],
          "scatterpolargl": [
           {
            "marker": {
             "colorbar": {
              "outlinewidth": 0,
              "ticks": ""
             }
            },
            "type": "scatterpolargl"
           }
          ],
          "scatterternary": [
           {
            "marker": {
             "colorbar": {
              "outlinewidth": 0,
              "ticks": ""
             }
            },
            "type": "scatterternary"
           }
          ],
          "surface": [
           {
            "colorbar": {
             "outlinewidth": 0,
             "ticks": ""
            },
            "colorscale": [
             [
              0,
              "#0d0887"
             ],
             [
              0.1111111111111111,
              "#46039f"
             ],
             [
              0.2222222222222222,
              "#7201a8"
             ],
             [
              0.3333333333333333,
              "#9c179e"
             ],
             [
              0.4444444444444444,
              "#bd3786"
             ],
             [
              0.5555555555555556,
              "#d8576b"
             ],
             [
              0.6666666666666666,
              "#ed7953"
             ],
             [
              0.7777777777777778,
              "#fb9f3a"
             ],
             [
              0.8888888888888888,
              "#fdca26"
             ],
             [
              1,
              "#f0f921"
             ]
            ],
            "type": "surface"
           }
          ],
          "table": [
           {
            "cells": {
             "fill": {
              "color": "#EBF0F8"
             },
             "line": {
              "color": "white"
             }
            },
            "header": {
             "fill": {
              "color": "#C8D4E3"
             },
             "line": {
              "color": "white"
             }
            },
            "type": "table"
           }
          ]
         },
         "layout": {
          "annotationdefaults": {
           "arrowcolor": "#2a3f5f",
           "arrowhead": 0,
           "arrowwidth": 1
          },
          "autotypenumbers": "strict",
          "coloraxis": {
           "colorbar": {
            "outlinewidth": 0,
            "ticks": ""
           }
          },
          "colorscale": {
           "diverging": [
            [
             0,
             "#8e0152"
            ],
            [
             0.1,
             "#c51b7d"
            ],
            [
             0.2,
             "#de77ae"
            ],
            [
             0.3,
             "#f1b6da"
            ],
            [
             0.4,
             "#fde0ef"
            ],
            [
             0.5,
             "#f7f7f7"
            ],
            [
             0.6,
             "#e6f5d0"
            ],
            [
             0.7,
             "#b8e186"
            ],
            [
             0.8,
             "#7fbc41"
            ],
            [
             0.9,
             "#4d9221"
            ],
            [
             1,
             "#276419"
            ]
           ],
           "sequential": [
            [
             0,
             "#0d0887"
            ],
            [
             0.1111111111111111,
             "#46039f"
            ],
            [
             0.2222222222222222,
             "#7201a8"
            ],
            [
             0.3333333333333333,
             "#9c179e"
            ],
            [
             0.4444444444444444,
             "#bd3786"
            ],
            [
             0.5555555555555556,
             "#d8576b"
            ],
            [
             0.6666666666666666,
             "#ed7953"
            ],
            [
             0.7777777777777778,
             "#fb9f3a"
            ],
            [
             0.8888888888888888,
             "#fdca26"
            ],
            [
             1,
             "#f0f921"
            ]
           ],
           "sequentialminus": [
            [
             0,
             "#0d0887"
            ],
            [
             0.1111111111111111,
             "#46039f"
            ],
            [
             0.2222222222222222,
             "#7201a8"
            ],
            [
             0.3333333333333333,
             "#9c179e"
            ],
            [
             0.4444444444444444,
             "#bd3786"
            ],
            [
             0.5555555555555556,
             "#d8576b"
            ],
            [
             0.6666666666666666,
             "#ed7953"
            ],
            [
             0.7777777777777778,
             "#fb9f3a"
            ],
            [
             0.8888888888888888,
             "#fdca26"
            ],
            [
             1,
             "#f0f921"
            ]
           ]
          },
          "colorway": [
           "#636efa",
           "#EF553B",
           "#00cc96",
           "#ab63fa",
           "#FFA15A",
           "#19d3f3",
           "#FF6692",
           "#B6E880",
           "#FF97FF",
           "#FECB52"
          ],
          "font": {
           "color": "#2a3f5f"
          },
          "geo": {
           "bgcolor": "white",
           "lakecolor": "white",
           "landcolor": "#E5ECF6",
           "showlakes": true,
           "showland": true,
           "subunitcolor": "white"
          },
          "hoverlabel": {
           "align": "left"
          },
          "hovermode": "closest",
          "mapbox": {
           "style": "light"
          },
          "paper_bgcolor": "white",
          "plot_bgcolor": "#E5ECF6",
          "polar": {
           "angularaxis": {
            "gridcolor": "white",
            "linecolor": "white",
            "ticks": ""
           },
           "bgcolor": "#E5ECF6",
           "radialaxis": {
            "gridcolor": "white",
            "linecolor": "white",
            "ticks": ""
           }
          },
          "scene": {
           "xaxis": {
            "backgroundcolor": "#E5ECF6",
            "gridcolor": "white",
            "gridwidth": 2,
            "linecolor": "white",
            "showbackground": true,
            "ticks": "",
            "zerolinecolor": "white"
           },
           "yaxis": {
            "backgroundcolor": "#E5ECF6",
            "gridcolor": "white",
            "gridwidth": 2,
            "linecolor": "white",
            "showbackground": true,
            "ticks": "",
            "zerolinecolor": "white"
           },
           "zaxis": {
            "backgroundcolor": "#E5ECF6",
            "gridcolor": "white",
            "gridwidth": 2,
            "linecolor": "white",
            "showbackground": true,
            "ticks": "",
            "zerolinecolor": "white"
           }
          },
          "shapedefaults": {
           "line": {
            "color": "#2a3f5f"
           }
          },
          "ternary": {
           "aaxis": {
            "gridcolor": "white",
            "linecolor": "white",
            "ticks": ""
           },
           "baxis": {
            "gridcolor": "white",
            "linecolor": "white",
            "ticks": ""
           },
           "bgcolor": "#E5ECF6",
           "caxis": {
            "gridcolor": "white",
            "linecolor": "white",
            "ticks": ""
           }
          },
          "title": {
           "x": 0.05
          },
          "xaxis": {
           "automargin": true,
           "gridcolor": "white",
           "linecolor": "white",
           "ticks": "",
           "title": {
            "standoff": 15
           },
           "zerolinecolor": "white",
           "zerolinewidth": 2
          },
          "yaxis": {
           "automargin": true,
           "gridcolor": "white",
           "linecolor": "white",
           "ticks": "",
           "title": {
            "standoff": 15
           },
           "zerolinecolor": "white",
           "zerolinewidth": 2
          }
         }
        },
        "width": 600
       }
      },
      "text/html": [
       "<div>                            <div id=\"bf9f7324-56ce-4223-84c6-7fbe732f6638\" class=\"plotly-graph-div\" style=\"height:600px; width:600px;\"></div>            <script type=\"text/javascript\">                require([\"plotly\"], function(Plotly) {                    window.PLOTLYENV=window.PLOTLYENV || {};                                    if (document.getElementById(\"bf9f7324-56ce-4223-84c6-7fbe732f6638\")) {                    Plotly.newPlot(                        \"bf9f7324-56ce-4223-84c6-7fbe732f6638\",                        [{\"marker\": {\"color\": 2, \"opacity\": 0.8, \"size\": 10}, \"mode\": \"markers+text\", \"name\": \"love\", \"text\": [\"know\", \"heart\", \"one\", \"cause\", \"always\"], \"textfont\": {\"size\": 20}, \"textposition\": \"top center\", \"type\": \"scatter\", \"x\": [12.476386070251465, -52.77877426147461, 18.72102165222168, 46.14103317260742, 22.45147705078125], \"y\": [21.314489364624023, 53.61756134033203, 56.58918380737305, 27.91375160217285, -7.3240509033203125]}, {\"marker\": {\"color\": 2, \"opacity\": 0.8, \"size\": 10}, \"mode\": \"markers+text\", \"name\": \"future\", \"text\": [\"life\", \"tomorrow\", \"hope\", \"lines\", \"things\"], \"textfont\": {\"size\": 20}, \"textposition\": \"top center\", \"type\": \"scatter\", \"x\": [-14.613425254821777, -41.06574630737305, 32.63114547729492, -9.715158462524414, 3.1875712871551514], \"y\": [34.74281311035156, 20.55350112915039, -47.71076965332031, -65.3507080078125, -30.696495056152344]}, {\"marker\": {\"color\": 2, \"opacity\": 0.8, \"size\": 10}, \"mode\": \"markers+text\", \"name\": \"roll\", \"text\": [\"rock\", \"let\", \"go\", \"rolling\", \"shake\"], \"textfont\": {\"size\": 20}, \"textposition\": \"top center\", \"type\": \"scatter\", \"x\": [-77.62909698486328, -17.986679077148438, -13.023953437805176, 55.3222541809082, -45.79281234741211], \"y\": [-17.928159713745117, 68.63137817382812, -1.018700361251831, -11.7778959274292, -9.62904167175293]}, {\"marker\": {\"color\": \"black\", \"opacity\": 1, \"size\": 10}, \"mode\": \"markers+text\", \"name\": \"input words\", \"text\": [\"love\", \"future\", \"roll\"], \"textfont\": {\"size\": 20}, \"textposition\": \"top center\", \"type\": \"scatter\", \"x\": [-76.01111602783203, -55.133262634277344, -27.017953872680664], \"y\": [20.82903289794922, -51.84713363647461, -33.63140869140625]}],                        {\"autosize\": false, \"font\": {\"family\": \" Courier New \", \"size\": 10}, \"height\": 600, \"legend\": {\"font\": {\"color\": \"black\", \"family\": \"Courier New\", \"size\": 15}, \"x\": 1, \"y\": 0.5}, \"margin\": {\"b\": 0, \"l\": 0, \"r\": 0, \"t\": 0}, \"showlegend\": true, \"template\": {\"data\": {\"bar\": [{\"error_x\": {\"color\": \"#2a3f5f\"}, \"error_y\": {\"color\": \"#2a3f5f\"}, \"marker\": {\"line\": {\"color\": \"#E5ECF6\", \"width\": 0.5}}, \"type\": \"bar\"}], \"barpolar\": [{\"marker\": {\"line\": {\"color\": \"#E5ECF6\", \"width\": 0.5}}, \"type\": \"barpolar\"}], \"carpet\": [{\"aaxis\": {\"endlinecolor\": \"#2a3f5f\", \"gridcolor\": \"white\", \"linecolor\": \"white\", \"minorgridcolor\": \"white\", \"startlinecolor\": \"#2a3f5f\"}, \"baxis\": {\"endlinecolor\": \"#2a3f5f\", \"gridcolor\": \"white\", \"linecolor\": \"white\", \"minorgridcolor\": \"white\", \"startlinecolor\": \"#2a3f5f\"}, \"type\": \"carpet\"}], \"choropleth\": [{\"colorbar\": {\"outlinewidth\": 0, \"ticks\": \"\"}, \"type\": \"choropleth\"}], \"contour\": [{\"colorbar\": {\"outlinewidth\": 0, \"ticks\": \"\"}, \"colorscale\": [[0.0, \"#0d0887\"], [0.1111111111111111, \"#46039f\"], [0.2222222222222222, \"#7201a8\"], [0.3333333333333333, \"#9c179e\"], [0.4444444444444444, \"#bd3786\"], [0.5555555555555556, \"#d8576b\"], [0.6666666666666666, \"#ed7953\"], [0.7777777777777778, \"#fb9f3a\"], [0.8888888888888888, \"#fdca26\"], [1.0, \"#f0f921\"]], \"type\": \"contour\"}], \"contourcarpet\": [{\"colorbar\": {\"outlinewidth\": 0, \"ticks\": \"\"}, \"type\": \"contourcarpet\"}], \"heatmap\": [{\"colorbar\": {\"outlinewidth\": 0, \"ticks\": \"\"}, \"colorscale\": [[0.0, \"#0d0887\"], [0.1111111111111111, \"#46039f\"], [0.2222222222222222, \"#7201a8\"], [0.3333333333333333, \"#9c179e\"], [0.4444444444444444, \"#bd3786\"], [0.5555555555555556, \"#d8576b\"], [0.6666666666666666, \"#ed7953\"], [0.7777777777777778, \"#fb9f3a\"], [0.8888888888888888, \"#fdca26\"], [1.0, \"#f0f921\"]], \"type\": \"heatmap\"}], \"heatmapgl\": [{\"colorbar\": {\"outlinewidth\": 0, \"ticks\": \"\"}, \"colorscale\": [[0.0, \"#0d0887\"], [0.1111111111111111, \"#46039f\"], [0.2222222222222222, \"#7201a8\"], [0.3333333333333333, \"#9c179e\"], [0.4444444444444444, \"#bd3786\"], [0.5555555555555556, \"#d8576b\"], [0.6666666666666666, \"#ed7953\"], [0.7777777777777778, \"#fb9f3a\"], [0.8888888888888888, \"#fdca26\"], [1.0, \"#f0f921\"]], \"type\": \"heatmapgl\"}], \"histogram\": [{\"marker\": {\"colorbar\": {\"outlinewidth\": 0, \"ticks\": \"\"}}, \"type\": \"histogram\"}], \"histogram2d\": [{\"colorbar\": {\"outlinewidth\": 0, \"ticks\": \"\"}, \"colorscale\": [[0.0, \"#0d0887\"], [0.1111111111111111, \"#46039f\"], [0.2222222222222222, \"#7201a8\"], [0.3333333333333333, \"#9c179e\"], [0.4444444444444444, \"#bd3786\"], [0.5555555555555556, \"#d8576b\"], [0.6666666666666666, \"#ed7953\"], [0.7777777777777778, \"#fb9f3a\"], [0.8888888888888888, \"#fdca26\"], [1.0, \"#f0f921\"]], \"type\": \"histogram2d\"}], \"histogram2dcontour\": [{\"colorbar\": {\"outlinewidth\": 0, \"ticks\": \"\"}, \"colorscale\": [[0.0, \"#0d0887\"], [0.1111111111111111, \"#46039f\"], [0.2222222222222222, \"#7201a8\"], [0.3333333333333333, \"#9c179e\"], [0.4444444444444444, \"#bd3786\"], [0.5555555555555556, \"#d8576b\"], [0.6666666666666666, \"#ed7953\"], [0.7777777777777778, \"#fb9f3a\"], [0.8888888888888888, \"#fdca26\"], [1.0, \"#f0f921\"]], \"type\": \"histogram2dcontour\"}], \"mesh3d\": [{\"colorbar\": {\"outlinewidth\": 0, \"ticks\": \"\"}, \"type\": \"mesh3d\"}], \"parcoords\": [{\"line\": {\"colorbar\": {\"outlinewidth\": 0, \"ticks\": \"\"}}, \"type\": \"parcoords\"}], \"pie\": [{\"automargin\": true, \"type\": \"pie\"}], \"scatter\": [{\"marker\": {\"colorbar\": {\"outlinewidth\": 0, \"ticks\": \"\"}}, \"type\": \"scatter\"}], \"scatter3d\": [{\"line\": {\"colorbar\": {\"outlinewidth\": 0, \"ticks\": \"\"}}, \"marker\": {\"colorbar\": {\"outlinewidth\": 0, \"ticks\": \"\"}}, \"type\": \"scatter3d\"}], \"scattercarpet\": [{\"marker\": {\"colorbar\": {\"outlinewidth\": 0, \"ticks\": \"\"}}, \"type\": \"scattercarpet\"}], \"scattergeo\": [{\"marker\": {\"colorbar\": {\"outlinewidth\": 0, \"ticks\": \"\"}}, \"type\": \"scattergeo\"}], \"scattergl\": [{\"marker\": {\"colorbar\": {\"outlinewidth\": 0, \"ticks\": \"\"}}, \"type\": \"scattergl\"}], \"scattermapbox\": [{\"marker\": {\"colorbar\": {\"outlinewidth\": 0, \"ticks\": \"\"}}, \"type\": \"scattermapbox\"}], \"scatterpolar\": [{\"marker\": {\"colorbar\": {\"outlinewidth\": 0, \"ticks\": \"\"}}, \"type\": \"scatterpolar\"}], \"scatterpolargl\": [{\"marker\": {\"colorbar\": {\"outlinewidth\": 0, \"ticks\": \"\"}}, \"type\": \"scatterpolargl\"}], \"scatterternary\": [{\"marker\": {\"colorbar\": {\"outlinewidth\": 0, \"ticks\": \"\"}}, \"type\": \"scatterternary\"}], \"surface\": [{\"colorbar\": {\"outlinewidth\": 0, \"ticks\": \"\"}, \"colorscale\": [[0.0, \"#0d0887\"], [0.1111111111111111, \"#46039f\"], [0.2222222222222222, \"#7201a8\"], [0.3333333333333333, \"#9c179e\"], [0.4444444444444444, \"#bd3786\"], [0.5555555555555556, \"#d8576b\"], [0.6666666666666666, \"#ed7953\"], [0.7777777777777778, \"#fb9f3a\"], [0.8888888888888888, \"#fdca26\"], [1.0, \"#f0f921\"]], \"type\": \"surface\"}], \"table\": [{\"cells\": {\"fill\": {\"color\": \"#EBF0F8\"}, \"line\": {\"color\": \"white\"}}, \"header\": {\"fill\": {\"color\": \"#C8D4E3\"}, \"line\": {\"color\": \"white\"}}, \"type\": \"table\"}]}, \"layout\": {\"annotationdefaults\": {\"arrowcolor\": \"#2a3f5f\", \"arrowhead\": 0, \"arrowwidth\": 1}, \"autotypenumbers\": \"strict\", \"coloraxis\": {\"colorbar\": {\"outlinewidth\": 0, \"ticks\": \"\"}}, \"colorscale\": {\"diverging\": [[0, \"#8e0152\"], [0.1, \"#c51b7d\"], [0.2, \"#de77ae\"], [0.3, \"#f1b6da\"], [0.4, \"#fde0ef\"], [0.5, \"#f7f7f7\"], [0.6, \"#e6f5d0\"], [0.7, \"#b8e186\"], [0.8, \"#7fbc41\"], [0.9, \"#4d9221\"], [1, \"#276419\"]], \"sequential\": [[0.0, \"#0d0887\"], [0.1111111111111111, \"#46039f\"], [0.2222222222222222, \"#7201a8\"], [0.3333333333333333, \"#9c179e\"], [0.4444444444444444, \"#bd3786\"], [0.5555555555555556, \"#d8576b\"], [0.6666666666666666, \"#ed7953\"], [0.7777777777777778, \"#fb9f3a\"], [0.8888888888888888, \"#fdca26\"], [1.0, \"#f0f921\"]], \"sequentialminus\": [[0.0, \"#0d0887\"], [0.1111111111111111, \"#46039f\"], [0.2222222222222222, \"#7201a8\"], [0.3333333333333333, \"#9c179e\"], [0.4444444444444444, \"#bd3786\"], [0.5555555555555556, \"#d8576b\"], [0.6666666666666666, \"#ed7953\"], [0.7777777777777778, \"#fb9f3a\"], [0.8888888888888888, \"#fdca26\"], [1.0, \"#f0f921\"]]}, \"colorway\": [\"#636efa\", \"#EF553B\", \"#00cc96\", \"#ab63fa\", \"#FFA15A\", \"#19d3f3\", \"#FF6692\", \"#B6E880\", \"#FF97FF\", \"#FECB52\"], \"font\": {\"color\": \"#2a3f5f\"}, \"geo\": {\"bgcolor\": \"white\", \"lakecolor\": \"white\", \"landcolor\": \"#E5ECF6\", \"showlakes\": true, \"showland\": true, \"subunitcolor\": \"white\"}, \"hoverlabel\": {\"align\": \"left\"}, \"hovermode\": \"closest\", \"mapbox\": {\"style\": \"light\"}, \"paper_bgcolor\": \"white\", \"plot_bgcolor\": \"#E5ECF6\", \"polar\": {\"angularaxis\": {\"gridcolor\": \"white\", \"linecolor\": \"white\", \"ticks\": \"\"}, \"bgcolor\": \"#E5ECF6\", \"radialaxis\": {\"gridcolor\": \"white\", \"linecolor\": \"white\", \"ticks\": \"\"}}, \"scene\": {\"xaxis\": {\"backgroundcolor\": \"#E5ECF6\", \"gridcolor\": \"white\", \"gridwidth\": 2, \"linecolor\": \"white\", \"showbackground\": true, \"ticks\": \"\", \"zerolinecolor\": \"white\"}, \"yaxis\": {\"backgroundcolor\": \"#E5ECF6\", \"gridcolor\": \"white\", \"gridwidth\": 2, \"linecolor\": \"white\", \"showbackground\": true, \"ticks\": \"\", \"zerolinecolor\": \"white\"}, \"zaxis\": {\"backgroundcolor\": \"#E5ECF6\", \"gridcolor\": \"white\", \"gridwidth\": 2, \"linecolor\": \"white\", \"showbackground\": true, \"ticks\": \"\", \"zerolinecolor\": \"white\"}}, \"shapedefaults\": {\"line\": {\"color\": \"#2a3f5f\"}}, \"ternary\": {\"aaxis\": {\"gridcolor\": \"white\", \"linecolor\": \"white\", \"ticks\": \"\"}, \"baxis\": {\"gridcolor\": \"white\", \"linecolor\": \"white\", \"ticks\": \"\"}, \"bgcolor\": \"#E5ECF6\", \"caxis\": {\"gridcolor\": \"white\", \"linecolor\": \"white\", \"ticks\": \"\"}}, \"title\": {\"x\": 0.05}, \"xaxis\": {\"automargin\": true, \"gridcolor\": \"white\", \"linecolor\": \"white\", \"ticks\": \"\", \"title\": {\"standoff\": 15}, \"zerolinecolor\": \"white\", \"zerolinewidth\": 2}, \"yaxis\": {\"automargin\": true, \"gridcolor\": \"white\", \"linecolor\": \"white\", \"ticks\": \"\", \"title\": {\"standoff\": 15}, \"zerolinecolor\": \"white\", \"zerolinewidth\": 2}}}, \"width\": 600},                        {\"responsive\": true}                    ).then(function(){\n",
       "                            \n",
       "var gd = document.getElementById('bf9f7324-56ce-4223-84c6-7fbe732f6638');\n",
       "var x = new MutationObserver(function (mutations, observer) {{\n",
       "        var display = window.getComputedStyle(gd).display;\n",
       "        if (!display || display === 'none') {{\n",
       "            console.log([gd, 'removed!']);\n",
       "            Plotly.purge(gd);\n",
       "            observer.disconnect();\n",
       "        }}\n",
       "}});\n",
       "\n",
       "// Listen for the removal of the full notebook cells\n",
       "var notebookContainer = gd.closest('#notebook-container');\n",
       "if (notebookContainer) {{\n",
       "    x.observe(notebookContainer, {childList: true});\n",
       "}}\n",
       "\n",
       "// Listen for the clearing of the current output cell\n",
       "var outputEl = gd.closest('.output');\n",
       "if (outputEl) {{\n",
       "    x.observe(outputEl, {childList: true});\n",
       "}}\n",
       "\n",
       "                        })                };                });            </script>        </div>"
      ]
     },
     "metadata": {},
     "output_type": "display_data"
    }
   ],
   "source": [
    "#This plot will give us a t-SNE visualization of our words across our doc2vec model. We will be able to see what this model looks like in space.\n",
    "#The visualization codes below were adapted from Ruben Winastwan \n",
    "\n",
    "\n",
    "\n",
    "def display_tsne_scatterplot_2D(model, user_input=None, words=None, label=None, color_map=None, topn=5, sample=10):\n",
    "\n",
    "    if words == None:\n",
    "        if sample > 0:\n",
    "            words = np.random.choice(list(model.vocab.keys()), sample)\n",
    "        else:\n",
    "            words = [ word for word in model.vocab ]\n",
    "    \n",
    "    word_vectors = np.array([model[w] for w in words])\n",
    "    \n",
    "    two_dim = TSNE(n_components = 2, random_state=0).fit_transform(word_vectors)[:,:2]\n",
    "\n",
    "\n",
    "    data = []\n",
    "    count = 0\n",
    "    \n",
    "    for i in range (len(user_input)):\n",
    "\n",
    "                trace = go.Scatter(\n",
    "                    x = two_dim[count:count+topn,0], \n",
    "                    y = two_dim[count:count+topn,1],  \n",
    "                    text = words[count:count+topn],\n",
    "                    name = user_input[i],\n",
    "                    textposition = \"top center\",\n",
    "                    textfont_size = 20,\n",
    "                    mode = 'markers+text',\n",
    "                    marker = {\n",
    "                        'size': 10,\n",
    "                        'opacity': 0.8,\n",
    "                        'color': 2\n",
    "                    }\n",
    "       \n",
    "                )\n",
    "               \n",
    "                data.append(trace)\n",
    "                count = count+topn\n",
    "\n",
    "    trace_input = go.Scatter(\n",
    "                    x = two_dim[count:,0], \n",
    "                    y = two_dim[count:,1],  \n",
    "                    text = words[count:],\n",
    "                    name = 'input words',\n",
    "                    textposition = \"top center\",\n",
    "                    textfont_size = 20,\n",
    "                    mode = 'markers+text',\n",
    "                    marker = {\n",
    "                        'size': 10,\n",
    "                        'opacity': 1,\n",
    "                        'color': 'black'\n",
    "                    }\n",
    "                    )\n",
    "\n",
    "            \n",
    "    data.append(trace_input)\n",
    "    \n",
    "# Configure the layout\n",
    "\n",
    "    layout = go.Layout(\n",
    "        margin = {'l': 0, 'r': 0, 'b': 0, 't': 0},\n",
    "        showlegend=True,\n",
    "        legend=dict(\n",
    "        x=1,\n",
    "        y=0.5,\n",
    "        font=dict(\n",
    "            family=\"Courier New\",\n",
    "            size=15,\n",
    "            color=\"black\"\n",
    "        )),\n",
    "        font = dict(\n",
    "            family = \" Courier New \",\n",
    "            size = 10),\n",
    "        autosize = False,\n",
    "        width = 600,\n",
    "        height = 600\n",
    "        )\n",
    "\n",
    "\n",
    "    plot_figure = go.Figure(data = data, layout = layout)\n",
    "    plot_figure.show()\n",
    "    \n",
    "display_tsne_scatterplot_2D(model_doc, user_input, similar_word, labels, color_map)"
   ]
  },
  {
   "cell_type": "markdown",
   "metadata": {},
   "source": [
    "# 3D Visualization\n",
    "Now I will view words that have appeared in my document to map where they are in space to each other. These words were chosen at random from the doc2vec corpus. Due to the size of our document, I will be pulling and visualizing random words from our corpus."
   ]
  },
  {
   "cell_type": "code",
   "execution_count": 305,
   "metadata": {},
   "outputs": [],
   "source": [
    "#This plot will give us a t-SNE visualization of our words across our doc2vec model. We will be able to see what this model looks like in space.\n",
    "#The visualization codes below were adapted from Ruben Winastwan \n",
    "\n",
    "\n",
    "input_word_3d = ['spell', 'doctor', 'letters', 'goodbye', 'forgive']\n",
    "user_input_3d = [x.strip() for x in input_word_3d]\n",
    "result_word = []\n",
    "    \n",
    "for words in user_input_3d:\n",
    "    \n",
    "        sim_words = model_doc.wv.most_similar(words, topn = 3) #Takes top 3 most similar words in our corpus for each input word\n",
    "        sim_words = append_list(sim_words, words)\n",
    "            \n",
    "        result_word.extend(sim_words)\n",
    "    \n",
    "similar_word = [word[0] for word in result_word]\n",
    "similarity = [word[1] for word in result_word] \n",
    "similar_word.extend(user_input_3d)\n",
    "labels = [word[2] for word in result_word]\n",
    "label_dict = dict([(y,x+1) for x,y in enumerate(set(labels))])\n",
    "color_map = [label_dict[x] for x in labels]"
   ]
  },
  {
   "cell_type": "code",
   "execution_count": 306,
   "metadata": {},
   "outputs": [
    {
     "data": {
      "application/vnd.plotly.v1+json": {
       "config": {
        "plotlyServerURL": "https://plot.ly"
       },
       "data": [
        {
         "marker": {
          "color": 2,
          "opacity": 0.8,
          "size": 10
         },
         "mode": "markers+text",
         "name": "spell",
         "text": [
          "bridge",
          "castin",
          "trance",
          "witch",
          "torge"
         ],
         "textfont": {
          "size": 20
         },
         "textposition": "top center",
         "type": "scatter3d",
         "x": [
          -85.04438781738281,
          -3.4193012714385986,
          -181.40318298339844,
          -168.8939971923828,
          174.7986297607422
         ],
         "y": [
          -12.425390243530273,
          -217.31935119628906,
          37.189491271972656,
          165.66944885253906,
          -41.690086364746094
         ],
         "z": [
          160.53555297851562,
          23.678131103515625,
          -279.0013427734375,
          74.69087982177734,
          301.93756103515625
         ]
        },
        {
         "marker": {
          "color": 2,
          "opacity": 0.8,
          "size": 10
         },
         "mode": "markers+text",
         "name": "doctor",
         "text": [
          "plese",
          "scholars",
          "lescombat",
          "ugk",
          "away"
         ],
         "textfont": {
          "size": 20
         },
         "textposition": "top center",
         "type": "scatter3d",
         "x": [
          38.2691650390625,
          31.32813262939453,
          27.850698471069336,
          -125.99564361572266,
          250.55006408691406
         ],
         "y": [
          151.16583251953125,
          -244.56982421875,
          95.67247772216797,
          96.7703628540039,
          192.88551330566406
         ],
         "z": [
          93.3693618774414,
          -167.79345703125,
          277.8474426269531,
          -110.6252212524414,
          -168.6576385498047
         ]
        },
        {
         "marker": {
          "color": 2,
          "opacity": 0.8,
          "size": 10
         },
         "mode": "markers+text",
         "name": "letters",
         "text": [
          "never",
          "forget",
          "please",
          "begged",
          "pride"
         ],
         "textfont": {
          "size": 20
         },
         "textposition": "top center",
         "type": "scatter3d",
         "x": [
          -146.474609375,
          146.62701416015625,
          192.6246337890625,
          174.8642120361328,
          19.86968421936035
         ],
         "y": [
          -198.7788848876953,
          29.345417022705078,
          -140.50790405273438,
          246.83163452148438,
          211.12953186035156
         ],
         "z": [
          159.6343231201172,
          -164.25222778320312,
          -58.02724075317383,
          14.580853462219238,
          -123.16122436523438
         ]
        },
        {
         "marker": {
          "color": 2,
          "opacity": 0.8,
          "size": 10
         },
         "mode": "markers+text",
         "name": "goodbye",
         "text": [
          "spell",
          "doctor",
          "letters",
          "goodbye",
          "forgive"
         ],
         "textfont": {
          "size": 20
         },
         "textposition": "top center",
         "type": "scatter3d",
         "x": [
          -216.70706176757812,
          -107.28443908691406,
          247.58126831054688,
          21.534360885620117,
          107.66281127929688
         ],
         "y": [
          -50.75891876220703,
          -112.4771499633789,
          34.86669158935547,
          -9.539048194885254,
          -111.01467895507812
         ],
         "z": [
          5.941306114196777,
          -158.1370391845703,
          84.8678970336914,
          -21.645471572875977,
          139.19973754882812
         ]
        },
        {
         "marker": {
          "color": 2,
          "opacity": 0.8,
          "size": 10
         },
         "mode": "markers+text",
         "name": "forgive",
         "text": [],
         "textfont": {
          "size": 20
         },
         "textposition": "top center",
         "type": "scatter3d",
         "x": [],
         "y": [],
         "z": []
        },
        {
         "marker": {
          "color": "black",
          "opacity": 1,
          "size": 10
         },
         "mode": "markers+text",
         "name": "input words",
         "text": [],
         "textfont": {
          "size": 20
         },
         "textposition": "top center",
         "type": "scatter3d",
         "x": [],
         "y": [],
         "z": []
        }
       ],
       "layout": {
        "autosize": false,
        "font": {
         "family": " Courier New ",
         "size": 10
        },
        "height": 1000,
        "legend": {
         "font": {
          "color": "black",
          "family": "Courier New",
          "size": 15
         },
         "x": 1,
         "y": 0.5
        },
        "margin": {
         "b": 0,
         "l": 0,
         "r": 0,
         "t": 0
        },
        "showlegend": true,
        "template": {
         "data": {
          "bar": [
           {
            "error_x": {
             "color": "#2a3f5f"
            },
            "error_y": {
             "color": "#2a3f5f"
            },
            "marker": {
             "line": {
              "color": "#E5ECF6",
              "width": 0.5
             }
            },
            "type": "bar"
           }
          ],
          "barpolar": [
           {
            "marker": {
             "line": {
              "color": "#E5ECF6",
              "width": 0.5
             }
            },
            "type": "barpolar"
           }
          ],
          "carpet": [
           {
            "aaxis": {
             "endlinecolor": "#2a3f5f",
             "gridcolor": "white",
             "linecolor": "white",
             "minorgridcolor": "white",
             "startlinecolor": "#2a3f5f"
            },
            "baxis": {
             "endlinecolor": "#2a3f5f",
             "gridcolor": "white",
             "linecolor": "white",
             "minorgridcolor": "white",
             "startlinecolor": "#2a3f5f"
            },
            "type": "carpet"
           }
          ],
          "choropleth": [
           {
            "colorbar": {
             "outlinewidth": 0,
             "ticks": ""
            },
            "type": "choropleth"
           }
          ],
          "contour": [
           {
            "colorbar": {
             "outlinewidth": 0,
             "ticks": ""
            },
            "colorscale": [
             [
              0,
              "#0d0887"
             ],
             [
              0.1111111111111111,
              "#46039f"
             ],
             [
              0.2222222222222222,
              "#7201a8"
             ],
             [
              0.3333333333333333,
              "#9c179e"
             ],
             [
              0.4444444444444444,
              "#bd3786"
             ],
             [
              0.5555555555555556,
              "#d8576b"
             ],
             [
              0.6666666666666666,
              "#ed7953"
             ],
             [
              0.7777777777777778,
              "#fb9f3a"
             ],
             [
              0.8888888888888888,
              "#fdca26"
             ],
             [
              1,
              "#f0f921"
             ]
            ],
            "type": "contour"
           }
          ],
          "contourcarpet": [
           {
            "colorbar": {
             "outlinewidth": 0,
             "ticks": ""
            },
            "type": "contourcarpet"
           }
          ],
          "heatmap": [
           {
            "colorbar": {
             "outlinewidth": 0,
             "ticks": ""
            },
            "colorscale": [
             [
              0,
              "#0d0887"
             ],
             [
              0.1111111111111111,
              "#46039f"
             ],
             [
              0.2222222222222222,
              "#7201a8"
             ],
             [
              0.3333333333333333,
              "#9c179e"
             ],
             [
              0.4444444444444444,
              "#bd3786"
             ],
             [
              0.5555555555555556,
              "#d8576b"
             ],
             [
              0.6666666666666666,
              "#ed7953"
             ],
             [
              0.7777777777777778,
              "#fb9f3a"
             ],
             [
              0.8888888888888888,
              "#fdca26"
             ],
             [
              1,
              "#f0f921"
             ]
            ],
            "type": "heatmap"
           }
          ],
          "heatmapgl": [
           {
            "colorbar": {
             "outlinewidth": 0,
             "ticks": ""
            },
            "colorscale": [
             [
              0,
              "#0d0887"
             ],
             [
              0.1111111111111111,
              "#46039f"
             ],
             [
              0.2222222222222222,
              "#7201a8"
             ],
             [
              0.3333333333333333,
              "#9c179e"
             ],
             [
              0.4444444444444444,
              "#bd3786"
             ],
             [
              0.5555555555555556,
              "#d8576b"
             ],
             [
              0.6666666666666666,
              "#ed7953"
             ],
             [
              0.7777777777777778,
              "#fb9f3a"
             ],
             [
              0.8888888888888888,
              "#fdca26"
             ],
             [
              1,
              "#f0f921"
             ]
            ],
            "type": "heatmapgl"
           }
          ],
          "histogram": [
           {
            "marker": {
             "colorbar": {
              "outlinewidth": 0,
              "ticks": ""
             }
            },
            "type": "histogram"
           }
          ],
          "histogram2d": [
           {
            "colorbar": {
             "outlinewidth": 0,
             "ticks": ""
            },
            "colorscale": [
             [
              0,
              "#0d0887"
             ],
             [
              0.1111111111111111,
              "#46039f"
             ],
             [
              0.2222222222222222,
              "#7201a8"
             ],
             [
              0.3333333333333333,
              "#9c179e"
             ],
             [
              0.4444444444444444,
              "#bd3786"
             ],
             [
              0.5555555555555556,
              "#d8576b"
             ],
             [
              0.6666666666666666,
              "#ed7953"
             ],
             [
              0.7777777777777778,
              "#fb9f3a"
             ],
             [
              0.8888888888888888,
              "#fdca26"
             ],
             [
              1,
              "#f0f921"
             ]
            ],
            "type": "histogram2d"
           }
          ],
          "histogram2dcontour": [
           {
            "colorbar": {
             "outlinewidth": 0,
             "ticks": ""
            },
            "colorscale": [
             [
              0,
              "#0d0887"
             ],
             [
              0.1111111111111111,
              "#46039f"
             ],
             [
              0.2222222222222222,
              "#7201a8"
             ],
             [
              0.3333333333333333,
              "#9c179e"
             ],
             [
              0.4444444444444444,
              "#bd3786"
             ],
             [
              0.5555555555555556,
              "#d8576b"
             ],
             [
              0.6666666666666666,
              "#ed7953"
             ],
             [
              0.7777777777777778,
              "#fb9f3a"
             ],
             [
              0.8888888888888888,
              "#fdca26"
             ],
             [
              1,
              "#f0f921"
             ]
            ],
            "type": "histogram2dcontour"
           }
          ],
          "mesh3d": [
           {
            "colorbar": {
             "outlinewidth": 0,
             "ticks": ""
            },
            "type": "mesh3d"
           }
          ],
          "parcoords": [
           {
            "line": {
             "colorbar": {
              "outlinewidth": 0,
              "ticks": ""
             }
            },
            "type": "parcoords"
           }
          ],
          "pie": [
           {
            "automargin": true,
            "type": "pie"
           }
          ],
          "scatter": [
           {
            "marker": {
             "colorbar": {
              "outlinewidth": 0,
              "ticks": ""
             }
            },
            "type": "scatter"
           }
          ],
          "scatter3d": [
           {
            "line": {
             "colorbar": {
              "outlinewidth": 0,
              "ticks": ""
             }
            },
            "marker": {
             "colorbar": {
              "outlinewidth": 0,
              "ticks": ""
             }
            },
            "type": "scatter3d"
           }
          ],
          "scattercarpet": [
           {
            "marker": {
             "colorbar": {
              "outlinewidth": 0,
              "ticks": ""
             }
            },
            "type": "scattercarpet"
           }
          ],
          "scattergeo": [
           {
            "marker": {
             "colorbar": {
              "outlinewidth": 0,
              "ticks": ""
             }
            },
            "type": "scattergeo"
           }
          ],
          "scattergl": [
           {
            "marker": {
             "colorbar": {
              "outlinewidth": 0,
              "ticks": ""
             }
            },
            "type": "scattergl"
           }
          ],
          "scattermapbox": [
           {
            "marker": {
             "colorbar": {
              "outlinewidth": 0,
              "ticks": ""
             }
            },
            "type": "scattermapbox"
           }
          ],
          "scatterpolar": [
           {
            "marker": {
             "colorbar": {
              "outlinewidth": 0,
              "ticks": ""
             }
            },
            "type": "scatterpolar"
           }
          ],
          "scatterpolargl": [
           {
            "marker": {
             "colorbar": {
              "outlinewidth": 0,
              "ticks": ""
             }
            },
            "type": "scatterpolargl"
           }
          ],
          "scatterternary": [
           {
            "marker": {
             "colorbar": {
              "outlinewidth": 0,
              "ticks": ""
             }
            },
            "type": "scatterternary"
           }
          ],
          "surface": [
           {
            "colorbar": {
             "outlinewidth": 0,
             "ticks": ""
            },
            "colorscale": [
             [
              0,
              "#0d0887"
             ],
             [
              0.1111111111111111,
              "#46039f"
             ],
             [
              0.2222222222222222,
              "#7201a8"
             ],
             [
              0.3333333333333333,
              "#9c179e"
             ],
             [
              0.4444444444444444,
              "#bd3786"
             ],
             [
              0.5555555555555556,
              "#d8576b"
             ],
             [
              0.6666666666666666,
              "#ed7953"
             ],
             [
              0.7777777777777778,
              "#fb9f3a"
             ],
             [
              0.8888888888888888,
              "#fdca26"
             ],
             [
              1,
              "#f0f921"
             ]
            ],
            "type": "surface"
           }
          ],
          "table": [
           {
            "cells": {
             "fill": {
              "color": "#EBF0F8"
             },
             "line": {
              "color": "white"
             }
            },
            "header": {
             "fill": {
              "color": "#C8D4E3"
             },
             "line": {
              "color": "white"
             }
            },
            "type": "table"
           }
          ]
         },
         "layout": {
          "annotationdefaults": {
           "arrowcolor": "#2a3f5f",
           "arrowhead": 0,
           "arrowwidth": 1
          },
          "autotypenumbers": "strict",
          "coloraxis": {
           "colorbar": {
            "outlinewidth": 0,
            "ticks": ""
           }
          },
          "colorscale": {
           "diverging": [
            [
             0,
             "#8e0152"
            ],
            [
             0.1,
             "#c51b7d"
            ],
            [
             0.2,
             "#de77ae"
            ],
            [
             0.3,
             "#f1b6da"
            ],
            [
             0.4,
             "#fde0ef"
            ],
            [
             0.5,
             "#f7f7f7"
            ],
            [
             0.6,
             "#e6f5d0"
            ],
            [
             0.7,
             "#b8e186"
            ],
            [
             0.8,
             "#7fbc41"
            ],
            [
             0.9,
             "#4d9221"
            ],
            [
             1,
             "#276419"
            ]
           ],
           "sequential": [
            [
             0,
             "#0d0887"
            ],
            [
             0.1111111111111111,
             "#46039f"
            ],
            [
             0.2222222222222222,
             "#7201a8"
            ],
            [
             0.3333333333333333,
             "#9c179e"
            ],
            [
             0.4444444444444444,
             "#bd3786"
            ],
            [
             0.5555555555555556,
             "#d8576b"
            ],
            [
             0.6666666666666666,
             "#ed7953"
            ],
            [
             0.7777777777777778,
             "#fb9f3a"
            ],
            [
             0.8888888888888888,
             "#fdca26"
            ],
            [
             1,
             "#f0f921"
            ]
           ],
           "sequentialminus": [
            [
             0,
             "#0d0887"
            ],
            [
             0.1111111111111111,
             "#46039f"
            ],
            [
             0.2222222222222222,
             "#7201a8"
            ],
            [
             0.3333333333333333,
             "#9c179e"
            ],
            [
             0.4444444444444444,
             "#bd3786"
            ],
            [
             0.5555555555555556,
             "#d8576b"
            ],
            [
             0.6666666666666666,
             "#ed7953"
            ],
            [
             0.7777777777777778,
             "#fb9f3a"
            ],
            [
             0.8888888888888888,
             "#fdca26"
            ],
            [
             1,
             "#f0f921"
            ]
           ]
          },
          "colorway": [
           "#636efa",
           "#EF553B",
           "#00cc96",
           "#ab63fa",
           "#FFA15A",
           "#19d3f3",
           "#FF6692",
           "#B6E880",
           "#FF97FF",
           "#FECB52"
          ],
          "font": {
           "color": "#2a3f5f"
          },
          "geo": {
           "bgcolor": "white",
           "lakecolor": "white",
           "landcolor": "#E5ECF6",
           "showlakes": true,
           "showland": true,
           "subunitcolor": "white"
          },
          "hoverlabel": {
           "align": "left"
          },
          "hovermode": "closest",
          "mapbox": {
           "style": "light"
          },
          "paper_bgcolor": "white",
          "plot_bgcolor": "#E5ECF6",
          "polar": {
           "angularaxis": {
            "gridcolor": "white",
            "linecolor": "white",
            "ticks": ""
           },
           "bgcolor": "#E5ECF6",
           "radialaxis": {
            "gridcolor": "white",
            "linecolor": "white",
            "ticks": ""
           }
          },
          "scene": {
           "xaxis": {
            "backgroundcolor": "#E5ECF6",
            "gridcolor": "white",
            "gridwidth": 2,
            "linecolor": "white",
            "showbackground": true,
            "ticks": "",
            "zerolinecolor": "white"
           },
           "yaxis": {
            "backgroundcolor": "#E5ECF6",
            "gridcolor": "white",
            "gridwidth": 2,
            "linecolor": "white",
            "showbackground": true,
            "ticks": "",
            "zerolinecolor": "white"
           },
           "zaxis": {
            "backgroundcolor": "#E5ECF6",
            "gridcolor": "white",
            "gridwidth": 2,
            "linecolor": "white",
            "showbackground": true,
            "ticks": "",
            "zerolinecolor": "white"
           }
          },
          "shapedefaults": {
           "line": {
            "color": "#2a3f5f"
           }
          },
          "ternary": {
           "aaxis": {
            "gridcolor": "white",
            "linecolor": "white",
            "ticks": ""
           },
           "baxis": {
            "gridcolor": "white",
            "linecolor": "white",
            "ticks": ""
           },
           "bgcolor": "#E5ECF6",
           "caxis": {
            "gridcolor": "white",
            "linecolor": "white",
            "ticks": ""
           }
          },
          "title": {
           "x": 0.05
          },
          "xaxis": {
           "automargin": true,
           "gridcolor": "white",
           "linecolor": "white",
           "ticks": "",
           "title": {
            "standoff": 15
           },
           "zerolinecolor": "white",
           "zerolinewidth": 2
          },
          "yaxis": {
           "automargin": true,
           "gridcolor": "white",
           "linecolor": "white",
           "ticks": "",
           "title": {
            "standoff": 15
           },
           "zerolinecolor": "white",
           "zerolinewidth": 2
          }
         }
        },
        "width": 1000
       }
      },
      "text/html": [
       "<div>                            <div id=\"2d110e22-340d-442c-b989-889027208bc8\" class=\"plotly-graph-div\" style=\"height:1000px; width:1000px;\"></div>            <script type=\"text/javascript\">                require([\"plotly\"], function(Plotly) {                    window.PLOTLYENV=window.PLOTLYENV || {};                                    if (document.getElementById(\"2d110e22-340d-442c-b989-889027208bc8\")) {                    Plotly.newPlot(                        \"2d110e22-340d-442c-b989-889027208bc8\",                        [{\"marker\": {\"color\": 2, \"opacity\": 0.8, \"size\": 10}, \"mode\": \"markers+text\", \"name\": \"spell\", \"text\": [\"bridge\", \"castin\", \"trance\", \"witch\", \"torge\"], \"textfont\": {\"size\": 20}, \"textposition\": \"top center\", \"type\": \"scatter3d\", \"x\": [-85.04438781738281, -3.4193012714385986, -181.40318298339844, -168.8939971923828, 174.7986297607422], \"y\": [-12.425390243530273, -217.31935119628906, 37.189491271972656, 165.66944885253906, -41.690086364746094], \"z\": [160.53555297851562, 23.678131103515625, -279.0013427734375, 74.69087982177734, 301.93756103515625]}, {\"marker\": {\"color\": 2, \"opacity\": 0.8, \"size\": 10}, \"mode\": \"markers+text\", \"name\": \"doctor\", \"text\": [\"plese\", \"scholars\", \"lescombat\", \"ugk\", \"away\"], \"textfont\": {\"size\": 20}, \"textposition\": \"top center\", \"type\": \"scatter3d\", \"x\": [38.2691650390625, 31.32813262939453, 27.850698471069336, -125.99564361572266, 250.55006408691406], \"y\": [151.16583251953125, -244.56982421875, 95.67247772216797, 96.7703628540039, 192.88551330566406], \"z\": [93.3693618774414, -167.79345703125, 277.8474426269531, -110.6252212524414, -168.6576385498047]}, {\"marker\": {\"color\": 2, \"opacity\": 0.8, \"size\": 10}, \"mode\": \"markers+text\", \"name\": \"letters\", \"text\": [\"never\", \"forget\", \"please\", \"begged\", \"pride\"], \"textfont\": {\"size\": 20}, \"textposition\": \"top center\", \"type\": \"scatter3d\", \"x\": [-146.474609375, 146.62701416015625, 192.6246337890625, 174.8642120361328, 19.86968421936035], \"y\": [-198.7788848876953, 29.345417022705078, -140.50790405273438, 246.83163452148438, 211.12953186035156], \"z\": [159.6343231201172, -164.25222778320312, -58.02724075317383, 14.580853462219238, -123.16122436523438]}, {\"marker\": {\"color\": 2, \"opacity\": 0.8, \"size\": 10}, \"mode\": \"markers+text\", \"name\": \"goodbye\", \"text\": [\"spell\", \"doctor\", \"letters\", \"goodbye\", \"forgive\"], \"textfont\": {\"size\": 20}, \"textposition\": \"top center\", \"type\": \"scatter3d\", \"x\": [-216.70706176757812, -107.28443908691406, 247.58126831054688, 21.534360885620117, 107.66281127929688], \"y\": [-50.75891876220703, -112.4771499633789, 34.86669158935547, -9.539048194885254, -111.01467895507812], \"z\": [5.941306114196777, -158.1370391845703, 84.8678970336914, -21.645471572875977, 139.19973754882812]}, {\"marker\": {\"color\": 2, \"opacity\": 0.8, \"size\": 10}, \"mode\": \"markers+text\", \"name\": \"forgive\", \"text\": [], \"textfont\": {\"size\": 20}, \"textposition\": \"top center\", \"type\": \"scatter3d\", \"x\": [], \"y\": [], \"z\": []}, {\"marker\": {\"color\": \"black\", \"opacity\": 1, \"size\": 10}, \"mode\": \"markers+text\", \"name\": \"input words\", \"text\": [], \"textfont\": {\"size\": 20}, \"textposition\": \"top center\", \"type\": \"scatter3d\", \"x\": [], \"y\": [], \"z\": []}],                        {\"autosize\": false, \"font\": {\"family\": \" Courier New \", \"size\": 10}, \"height\": 1000, \"legend\": {\"font\": {\"color\": \"black\", \"family\": \"Courier New\", \"size\": 15}, \"x\": 1, \"y\": 0.5}, \"margin\": {\"b\": 0, \"l\": 0, \"r\": 0, \"t\": 0}, \"showlegend\": true, \"template\": {\"data\": {\"bar\": [{\"error_x\": {\"color\": \"#2a3f5f\"}, \"error_y\": {\"color\": \"#2a3f5f\"}, \"marker\": {\"line\": {\"color\": \"#E5ECF6\", \"width\": 0.5}}, \"type\": \"bar\"}], \"barpolar\": [{\"marker\": {\"line\": {\"color\": \"#E5ECF6\", \"width\": 0.5}}, \"type\": \"barpolar\"}], \"carpet\": [{\"aaxis\": {\"endlinecolor\": \"#2a3f5f\", \"gridcolor\": \"white\", \"linecolor\": \"white\", \"minorgridcolor\": \"white\", \"startlinecolor\": \"#2a3f5f\"}, \"baxis\": {\"endlinecolor\": \"#2a3f5f\", \"gridcolor\": \"white\", \"linecolor\": \"white\", \"minorgridcolor\": \"white\", \"startlinecolor\": \"#2a3f5f\"}, \"type\": \"carpet\"}], \"choropleth\": [{\"colorbar\": {\"outlinewidth\": 0, \"ticks\": \"\"}, \"type\": \"choropleth\"}], \"contour\": [{\"colorbar\": {\"outlinewidth\": 0, \"ticks\": \"\"}, \"colorscale\": [[0.0, \"#0d0887\"], [0.1111111111111111, \"#46039f\"], [0.2222222222222222, \"#7201a8\"], [0.3333333333333333, \"#9c179e\"], [0.4444444444444444, \"#bd3786\"], [0.5555555555555556, \"#d8576b\"], [0.6666666666666666, \"#ed7953\"], [0.7777777777777778, \"#fb9f3a\"], [0.8888888888888888, \"#fdca26\"], [1.0, \"#f0f921\"]], \"type\": \"contour\"}], \"contourcarpet\": [{\"colorbar\": {\"outlinewidth\": 0, \"ticks\": \"\"}, \"type\": \"contourcarpet\"}], \"heatmap\": [{\"colorbar\": {\"outlinewidth\": 0, \"ticks\": \"\"}, \"colorscale\": [[0.0, \"#0d0887\"], [0.1111111111111111, \"#46039f\"], [0.2222222222222222, \"#7201a8\"], [0.3333333333333333, \"#9c179e\"], [0.4444444444444444, \"#bd3786\"], [0.5555555555555556, \"#d8576b\"], [0.6666666666666666, \"#ed7953\"], [0.7777777777777778, \"#fb9f3a\"], [0.8888888888888888, \"#fdca26\"], [1.0, \"#f0f921\"]], \"type\": \"heatmap\"}], \"heatmapgl\": [{\"colorbar\": {\"outlinewidth\": 0, \"ticks\": \"\"}, \"colorscale\": [[0.0, \"#0d0887\"], [0.1111111111111111, \"#46039f\"], [0.2222222222222222, \"#7201a8\"], [0.3333333333333333, \"#9c179e\"], [0.4444444444444444, \"#bd3786\"], [0.5555555555555556, \"#d8576b\"], [0.6666666666666666, \"#ed7953\"], [0.7777777777777778, \"#fb9f3a\"], [0.8888888888888888, \"#fdca26\"], [1.0, \"#f0f921\"]], \"type\": \"heatmapgl\"}], \"histogram\": [{\"marker\": {\"colorbar\": {\"outlinewidth\": 0, \"ticks\": \"\"}}, \"type\": \"histogram\"}], \"histogram2d\": [{\"colorbar\": {\"outlinewidth\": 0, \"ticks\": \"\"}, \"colorscale\": [[0.0, \"#0d0887\"], [0.1111111111111111, \"#46039f\"], [0.2222222222222222, \"#7201a8\"], [0.3333333333333333, \"#9c179e\"], [0.4444444444444444, \"#bd3786\"], [0.5555555555555556, \"#d8576b\"], [0.6666666666666666, \"#ed7953\"], [0.7777777777777778, \"#fb9f3a\"], [0.8888888888888888, \"#fdca26\"], [1.0, \"#f0f921\"]], \"type\": \"histogram2d\"}], \"histogram2dcontour\": [{\"colorbar\": {\"outlinewidth\": 0, \"ticks\": \"\"}, \"colorscale\": [[0.0, \"#0d0887\"], [0.1111111111111111, \"#46039f\"], [0.2222222222222222, \"#7201a8\"], [0.3333333333333333, \"#9c179e\"], [0.4444444444444444, \"#bd3786\"], [0.5555555555555556, \"#d8576b\"], [0.6666666666666666, \"#ed7953\"], [0.7777777777777778, \"#fb9f3a\"], [0.8888888888888888, \"#fdca26\"], [1.0, \"#f0f921\"]], \"type\": \"histogram2dcontour\"}], \"mesh3d\": [{\"colorbar\": {\"outlinewidth\": 0, \"ticks\": \"\"}, \"type\": \"mesh3d\"}], \"parcoords\": [{\"line\": {\"colorbar\": {\"outlinewidth\": 0, \"ticks\": \"\"}}, \"type\": \"parcoords\"}], \"pie\": [{\"automargin\": true, \"type\": \"pie\"}], \"scatter\": [{\"marker\": {\"colorbar\": {\"outlinewidth\": 0, \"ticks\": \"\"}}, \"type\": \"scatter\"}], \"scatter3d\": [{\"line\": {\"colorbar\": {\"outlinewidth\": 0, \"ticks\": \"\"}}, \"marker\": {\"colorbar\": {\"outlinewidth\": 0, \"ticks\": \"\"}}, \"type\": \"scatter3d\"}], \"scattercarpet\": [{\"marker\": {\"colorbar\": {\"outlinewidth\": 0, \"ticks\": \"\"}}, \"type\": \"scattercarpet\"}], \"scattergeo\": [{\"marker\": {\"colorbar\": {\"outlinewidth\": 0, \"ticks\": \"\"}}, \"type\": \"scattergeo\"}], \"scattergl\": [{\"marker\": {\"colorbar\": {\"outlinewidth\": 0, \"ticks\": \"\"}}, \"type\": \"scattergl\"}], \"scattermapbox\": [{\"marker\": {\"colorbar\": {\"outlinewidth\": 0, \"ticks\": \"\"}}, \"type\": \"scattermapbox\"}], \"scatterpolar\": [{\"marker\": {\"colorbar\": {\"outlinewidth\": 0, \"ticks\": \"\"}}, \"type\": \"scatterpolar\"}], \"scatterpolargl\": [{\"marker\": {\"colorbar\": {\"outlinewidth\": 0, \"ticks\": \"\"}}, \"type\": \"scatterpolargl\"}], \"scatterternary\": [{\"marker\": {\"colorbar\": {\"outlinewidth\": 0, \"ticks\": \"\"}}, \"type\": \"scatterternary\"}], \"surface\": [{\"colorbar\": {\"outlinewidth\": 0, \"ticks\": \"\"}, \"colorscale\": [[0.0, \"#0d0887\"], [0.1111111111111111, \"#46039f\"], [0.2222222222222222, \"#7201a8\"], [0.3333333333333333, \"#9c179e\"], [0.4444444444444444, \"#bd3786\"], [0.5555555555555556, \"#d8576b\"], [0.6666666666666666, \"#ed7953\"], [0.7777777777777778, \"#fb9f3a\"], [0.8888888888888888, \"#fdca26\"], [1.0, \"#f0f921\"]], \"type\": \"surface\"}], \"table\": [{\"cells\": {\"fill\": {\"color\": \"#EBF0F8\"}, \"line\": {\"color\": \"white\"}}, \"header\": {\"fill\": {\"color\": \"#C8D4E3\"}, \"line\": {\"color\": \"white\"}}, \"type\": \"table\"}]}, \"layout\": {\"annotationdefaults\": {\"arrowcolor\": \"#2a3f5f\", \"arrowhead\": 0, \"arrowwidth\": 1}, \"autotypenumbers\": \"strict\", \"coloraxis\": {\"colorbar\": {\"outlinewidth\": 0, \"ticks\": \"\"}}, \"colorscale\": {\"diverging\": [[0, \"#8e0152\"], [0.1, \"#c51b7d\"], [0.2, \"#de77ae\"], [0.3, \"#f1b6da\"], [0.4, \"#fde0ef\"], [0.5, \"#f7f7f7\"], [0.6, \"#e6f5d0\"], [0.7, \"#b8e186\"], [0.8, \"#7fbc41\"], [0.9, \"#4d9221\"], [1, \"#276419\"]], \"sequential\": [[0.0, \"#0d0887\"], [0.1111111111111111, \"#46039f\"], [0.2222222222222222, \"#7201a8\"], [0.3333333333333333, \"#9c179e\"], [0.4444444444444444, \"#bd3786\"], [0.5555555555555556, \"#d8576b\"], [0.6666666666666666, \"#ed7953\"], [0.7777777777777778, \"#fb9f3a\"], [0.8888888888888888, \"#fdca26\"], [1.0, \"#f0f921\"]], \"sequentialminus\": [[0.0, \"#0d0887\"], [0.1111111111111111, \"#46039f\"], [0.2222222222222222, \"#7201a8\"], [0.3333333333333333, \"#9c179e\"], [0.4444444444444444, \"#bd3786\"], [0.5555555555555556, \"#d8576b\"], [0.6666666666666666, \"#ed7953\"], [0.7777777777777778, \"#fb9f3a\"], [0.8888888888888888, \"#fdca26\"], [1.0, \"#f0f921\"]]}, \"colorway\": [\"#636efa\", \"#EF553B\", \"#00cc96\", \"#ab63fa\", \"#FFA15A\", \"#19d3f3\", \"#FF6692\", \"#B6E880\", \"#FF97FF\", \"#FECB52\"], \"font\": {\"color\": \"#2a3f5f\"}, \"geo\": {\"bgcolor\": \"white\", \"lakecolor\": \"white\", \"landcolor\": \"#E5ECF6\", \"showlakes\": true, \"showland\": true, \"subunitcolor\": \"white\"}, \"hoverlabel\": {\"align\": \"left\"}, \"hovermode\": \"closest\", \"mapbox\": {\"style\": \"light\"}, \"paper_bgcolor\": \"white\", \"plot_bgcolor\": \"#E5ECF6\", \"polar\": {\"angularaxis\": {\"gridcolor\": \"white\", \"linecolor\": \"white\", \"ticks\": \"\"}, \"bgcolor\": \"#E5ECF6\", \"radialaxis\": {\"gridcolor\": \"white\", \"linecolor\": \"white\", \"ticks\": \"\"}}, \"scene\": {\"xaxis\": {\"backgroundcolor\": \"#E5ECF6\", \"gridcolor\": \"white\", \"gridwidth\": 2, \"linecolor\": \"white\", \"showbackground\": true, \"ticks\": \"\", \"zerolinecolor\": \"white\"}, \"yaxis\": {\"backgroundcolor\": \"#E5ECF6\", \"gridcolor\": \"white\", \"gridwidth\": 2, \"linecolor\": \"white\", \"showbackground\": true, \"ticks\": \"\", \"zerolinecolor\": \"white\"}, \"zaxis\": {\"backgroundcolor\": \"#E5ECF6\", \"gridcolor\": \"white\", \"gridwidth\": 2, \"linecolor\": \"white\", \"showbackground\": true, \"ticks\": \"\", \"zerolinecolor\": \"white\"}}, \"shapedefaults\": {\"line\": {\"color\": \"#2a3f5f\"}}, \"ternary\": {\"aaxis\": {\"gridcolor\": \"white\", \"linecolor\": \"white\", \"ticks\": \"\"}, \"baxis\": {\"gridcolor\": \"white\", \"linecolor\": \"white\", \"ticks\": \"\"}, \"bgcolor\": \"#E5ECF6\", \"caxis\": {\"gridcolor\": \"white\", \"linecolor\": \"white\", \"ticks\": \"\"}}, \"title\": {\"x\": 0.05}, \"xaxis\": {\"automargin\": true, \"gridcolor\": \"white\", \"linecolor\": \"white\", \"ticks\": \"\", \"title\": {\"standoff\": 15}, \"zerolinecolor\": \"white\", \"zerolinewidth\": 2}, \"yaxis\": {\"automargin\": true, \"gridcolor\": \"white\", \"linecolor\": \"white\", \"ticks\": \"\", \"title\": {\"standoff\": 15}, \"zerolinecolor\": \"white\", \"zerolinewidth\": 2}}}, \"width\": 1000},                        {\"responsive\": true}                    ).then(function(){\n",
       "                            \n",
       "var gd = document.getElementById('2d110e22-340d-442c-b989-889027208bc8');\n",
       "var x = new MutationObserver(function (mutations, observer) {{\n",
       "        var display = window.getComputedStyle(gd).display;\n",
       "        if (!display || display === 'none') {{\n",
       "            console.log([gd, 'removed!']);\n",
       "            Plotly.purge(gd);\n",
       "            observer.disconnect();\n",
       "        }}\n",
       "}});\n",
       "\n",
       "// Listen for the removal of the full notebook cells\n",
       "var notebookContainer = gd.closest('#notebook-container');\n",
       "if (notebookContainer) {{\n",
       "    x.observe(notebookContainer, {childList: true});\n",
       "}}\n",
       "\n",
       "// Listen for the clearing of the current output cell\n",
       "var outputEl = gd.closest('.output');\n",
       "if (outputEl) {{\n",
       "    x.observe(outputEl, {childList: true});\n",
       "}}\n",
       "\n",
       "                        })                };                });            </script>        </div>"
      ]
     },
     "metadata": {},
     "output_type": "display_data"
    }
   ],
   "source": [
    "def display_tsne_scatterplot_3D(model, user_input=None, words=None, label=None, color_map=None, topn=5, sample=10):\n",
    "\n",
    "    if words == None:\n",
    "        if sample > 0:\n",
    "            words = np.random.choice(list(model.vocab.keys()), sample)\n",
    "        else:\n",
    "            words = [ word for word in model.vocab ]\n",
    "    \n",
    "    word_vectors = np.array([model[w] for w in words])\n",
    "    \n",
    "    three_dim = TSNE(n_components = 3, random_state=0).fit_transform(word_vectors)[:,:3]\n",
    "\n",
    "\n",
    "    data = []\n",
    "    count = 0\n",
    "    \n",
    "    for i in range (len(user_input)):\n",
    "\n",
    "                trace = go.Scatter3d(\n",
    "                    x = three_dim[count:count+topn,0], \n",
    "                    y = three_dim[count:count+topn,1], \n",
    "                    z = three_dim[count:count+topn,2],\n",
    "                    text = words[count:count+topn],\n",
    "                    name = user_input_3d[i],\n",
    "                    textposition = \"top center\",\n",
    "                    textfont_size = 20,\n",
    "                    mode = 'markers+text',\n",
    "                    marker = {\n",
    "                        'size': 10,\n",
    "                        'opacity': 0.8,\n",
    "                        'color': 2\n",
    "                    }\n",
    "       \n",
    "                )\n",
    "               \n",
    "                data.append(trace)\n",
    "                count = count+topn\n",
    "\n",
    "    trace_input = go.Scatter3d(\n",
    "                    x = three_dim[count:,0], \n",
    "                    y = three_dim[count:,1],\n",
    "                    z = three_dim[count:,2],\n",
    "                    text = words[count:],\n",
    "                    name = 'input words',\n",
    "                    textposition = \"top center\",\n",
    "                    textfont_size = 20,\n",
    "                    mode = 'markers+text',\n",
    "                    marker = {\n",
    "                        'size': 10,\n",
    "                        'opacity': 1,\n",
    "                        'color': 'black'\n",
    "                    }\n",
    "                    )\n",
    "\n",
    "            \n",
    "    data.append(trace_input)\n",
    "    \n",
    "# Configure the layout\n",
    "\n",
    "    layout = go.Layout(\n",
    "        margin = {'l': 0, 'r': 0, 'b': 0, 't': 0},\n",
    "        showlegend=True,\n",
    "        legend=dict(\n",
    "        x=1,\n",
    "        y=0.5,\n",
    "        font=dict(\n",
    "            family=\"Courier New\",\n",
    "            size=15,\n",
    "            color=\"black\"\n",
    "        )),\n",
    "        font = dict(\n",
    "            family = \" Courier New \",\n",
    "            size = 10),\n",
    "        autosize = False,\n",
    "        width = 1000,\n",
    "        height = 1000\n",
    "        )\n",
    "\n",
    "\n",
    "    plot_figure = go.Figure(data = data, layout = layout)\n",
    "    plot_figure.show()\n",
    "    \n",
    "display_tsne_scatterplot_3D(model_doc, user_input_3d, similar_word, labels, color_map)"
   ]
  },
  {
   "cell_type": "code",
   "execution_count": 75,
   "metadata": {},
   "outputs": [],
   "source": [
    "train, test = train_test_split(lyrics_df, test_size=0.3, random_state=42)"
   ]
  },
  {
   "cell_type": "code",
   "execution_count": 61,
   "metadata": {},
   "outputs": [],
   "source": [
    "tagged_tr = [TaggedDocument(lyrics_df['lyrics_cleaned'], tags=[str(i)]) for i, _d in enumerate(train)]\n",
    "tagged_test = [TaggedDocument(lyrics_df['lyrics_cleaned'], tags=[str(i)]) for i, _d in enumerate(test)]\n"
   ]
  },
  {
   "cell_type": "code",
   "execution_count": 91,
   "metadata": {},
   "outputs": [],
   "source": [
    "def vec_for_learning(model, tagged_docs):\n",
    "    sents = tagged_docs\n",
    "    targets, regressors = zip(*[(doc.tags[0], model_doc.infer_vector(doc.words, steps=20)) for doc in sents])\n",
    "    return targets, regressors\n"
   ]
  },
  {
   "cell_type": "code",
   "execution_count": 88,
   "metadata": {},
   "outputs": [],
   "source": [
    "train_dt, test_dt = train_test_split(data_for_training, test_size=0.3, random_state=42)"
   ]
  },
  {
   "cell_type": "markdown",
   "metadata": {},
   "source": [
    "# Modeling \n",
    "For our baseline model, we will use a decision tree classifier and we will only slightly tune our parameters. I want to see how the model scores first based on this classifier. I am choosing a decision tree to optimize my model and since decision trees can perform feature selection, they work well on categorical data as well as numeric."
   ]
  },
  {
   "cell_type": "code",
   "execution_count": 152,
   "metadata": {},
   "outputs": [
    {
     "name": "stdout",
     "output_type": "stream",
     "text": [
      "Testing Accuracy 0.4844463036203225\n",
      "Training Accuracy 0.4848998484280522\n"
     ]
    }
   ],
   "source": [
    "#Decision Tree modeling with tuned hyperparameters\n",
    "dtc = DecisionTreeClassifier(random_state=42, max_leaf_nodes=150, max_depth=7, min_samples_split=150)\n",
    "dtc.fit(train_vc, y_train) #With tuning of hyper parameters, our score is still very much the same for decision trees.\n",
    "\n",
    "print(f'Testing Accuracy {dtc.score(test_vc, y_test)}')\n",
    "print(f'Training Accuracy {dtc.score(train_vc, y_train)}')"
   ]
  },
  {
   "cell_type": "code",
   "execution_count": 155,
   "metadata": {},
   "outputs": [
    {
     "name": "stdout",
     "output_type": "stream",
     "text": [
      "Testing Accuracy 0.5244904167934287\n",
      "Training Accuracy 0.52737258992454\n"
     ]
    }
   ],
   "source": [
    "#We updated the hyperparameters from this decision tree. the criterion was changed as well as the max sample size and bagging was added.\n",
    "dc = DecisionTreeClassifier(criterion=\"entropy\", max_depth=7)\n",
    "bag = BaggingClassifier(base_estimator=dc, n_estimators=100, max_samples=0.8, bootstrap=True) #Using bootstrap and bagging to get a better score \n",
    "bag = bag.fit(train_vc, y_train)\n",
    "\n",
    "\n",
    "print(f'Testing Accuracy {bag.score(test_vc, y_test)}')\n",
    "print(f'Training Accuracy {bag.score(train_vc, y_train)}')"
   ]
  },
  {
   "cell_type": "markdown",
   "metadata": {},
   "source": [
    "Our Decision tree model with some hyperparameters tuned scored extremely low, though there is little to no overfitting present. Our Decision tree model using bagging scored higher and also has a little to no overfitting. I decided to implement bagging to combine weaker models into one ensemble model since my scores were so low. Both of these models still scored much lower than anticipated."
   ]
  },
  {
   "cell_type": "markdown",
   "metadata": {},
   "source": [
    "### Modeling with Random Forest, Pipeline and Grid Search\n",
    "\n",
    "I am choosing to now model with a random forest classifier using a pipeline and gridsearch. Since I used decision trees for my baseline model, I want to use bagged decision trees that are split at random subsets. Random forest also helps our outliers by binning them, which could improve our score. I am also comfortable using random forest due to the models trained in the audio modeling notebook."
   ]
  },
  {
   "cell_type": "code",
   "execution_count": 146,
   "metadata": {},
   "outputs": [
    {
     "name": "stdout",
     "output_type": "stream",
     "text": [
      "Best: 0.723764 using {'max_features': 'sqrt', 'n_estimators': 1000}\n",
      "0.707553 (0.005223) with: {'max_features': 'sqrt', 'n_estimators': 10}\n",
      "0.721091 (0.005722) with: {'max_features': 'sqrt', 'n_estimators': 100}\n",
      "0.723764 (0.005407) with: {'max_features': 'sqrt', 'n_estimators': 1000}\n",
      "0.707309 (0.005658) with: {'max_features': 'log2', 'n_estimators': 10}\n",
      "0.720532 (0.005369) with: {'max_features': 'log2', 'n_estimators': 100}\n",
      "0.723422 (0.005396) with: {'max_features': 'log2', 'n_estimators': 1000}\n"
     ]
    }
   ],
   "source": [
    "#A portion of this code was adapted from https://stackoverflow.com/questions\n",
    "\n",
    "from sklearn.model_selection import RepeatedStratifiedKFold\n",
    "\n",
    "rfc = RandomForestClassifier() \n",
    "n_estimators = [10, 100, 1000]\n",
    "max_features = ['sqrt', 'log2']\n",
    "\n",
    "# define grid search\n",
    "grid = dict(n_estimators=n_estimators,max_features=max_features)\n",
    "cv = RepeatedStratifiedKFold(n_splits=10, n_repeats=3, random_state=1)\n",
    "grid_search = GridSearchCV(estimator=rfc, param_grid=grid, n_jobs=-1, cv=cv, scoring='accuracy',error_score=0)\n",
    "grid_result = grid_search.fit(train_vc, y_train)\n",
    "\n",
    "# summarize results\n",
    "print(\"Best: %f using %s\" % (grid_result.best_score_, grid_result.best_params_))\n",
    "means = grid_result.cv_results_['mean_test_score']\n",
    "stds = grid_result.cv_results_['std_test_score']\n",
    "params = grid_result.cv_results_['params']\n",
    "for mean, stdev, param in zip(means, stds, params):\n",
    "    print(\"%f (%f) with: %r\" % (mean, stdev, param))"
   ]
  },
  {
   "cell_type": "code",
   "execution_count": 150,
   "metadata": {},
   "outputs": [
    {
     "name": "stdout",
     "output_type": "stream",
     "text": [
      "Random Forest Train score 0.868735433609857\n",
      "Random Forest Test score 0.7290462427745664\n"
     ]
    }
   ],
   "source": [
    "print('Random Forest Train score', grid_result.score(train_vc, y_train)) #Our highest score was\n",
    "print('Random Forest Test score', grid_result.score(test_vc, y_test))"
   ]
  },
  {
   "cell_type": "markdown",
   "metadata": {},
   "source": [
    "Our score has improved immensely! Though it is still not as high as we might like, we were able to reach a test score above 70% and a training score at 87%. our model is extremely overfit however, so to reduce this bias/variance trade off, we would need to further explore turning our hyperparameters."
   ]
  },
  {
   "cell_type": "markdown",
   "metadata": {},
   "source": [
    "Our highest training score is roughly at 87%, while our testing score is at 73%. There is clear evidence of overfitting, however, our model scored decently in comparison to our lyrics classifier."
   ]
  },
  {
   "cell_type": "code",
   "execution_count": 159,
   "metadata": {},
   "outputs": [],
   "source": [
    "preds_grid = grid_result.predict(test_vc)"
   ]
  },
  {
   "cell_type": "code",
   "execution_count": 162,
   "metadata": {},
   "outputs": [
    {
     "name": "stdout",
     "output_type": "stream",
     "text": [
      "              precision    recall  f1-score   support\n",
      "\n",
      "           0       0.84      0.71      0.77       770\n",
      "           1       0.91      0.61      0.73       167\n",
      "           2       0.82      0.69      0.75      1337\n",
      "           3       0.62      0.52      0.56       572\n",
      "           4       0.81      0.57      0.67       158\n",
      "           5       0.78      0.80      0.79      3498\n",
      "           6       0.71      0.57      0.63       292\n",
      "           7       0.64      0.28      0.39       476\n",
      "           8       0.76      0.70      0.73      6542\n",
      "           9       0.70      0.60      0.64      4730\n",
      "          10       0.69      0.87      0.77      7754\n",
      "\n",
      "    accuracy                           0.73     26296\n",
      "   macro avg       0.75      0.63      0.68     26296\n",
      "weighted avg       0.73      0.73      0.72     26296\n",
      "\n"
     ]
    }
   ],
   "source": [
    "#Lets print a classification report to look at our values.\n",
    "print(classification_report(y_test, preds_grid))"
   ]
  },
  {
   "cell_type": "markdown",
   "metadata": {},
   "source": [
    "# Conclusions and Next Steps\n",
    "Our NLP analysis pointed out a few key things. The first is that there was an error in not omitting spanish or latin stop words. These showed up in our plots and they dominated our word count for the latin genre. There was also word overlap in the classical and latin genres. I suspect this was due to our previous genre classification method and how these songs were categorized. Revisiting the features and methods of classification is necessary to improve our scores.\n",
    "\n",
    "As concluded from our prior model in our audio notebook, our random forest model scored highest out of the 3 models we trained. Our lyrics classifier is still 13% overfit however. A positive is that this classifier (using lyrics to train), scored higher on our testing set than in our audio classifier testing set, so we know that our feature selection was better here. Our decision tree models scored roughly the same and were very low even still. That leads me to belive those models just werent the best fit for this specific project. Our decision tree models were not nearly as overfit as our random forest model. The margin of erro is next to none, however, I would need to do more exploration on why these models scored poorly if I wanted to revisit training them.\n",
    "In our classification report, we see that our precision and our recall are closer in range for our random forest model. Aside from genres 7 and 10, our model performed much better in terms of predicting actual truths and actual false values.\n",
    "\n",
    "## Next Steps\n",
    "1. Since we stripped our classifier of all audio attributes, we did not get a chance to run it in tandem with our audio features model. It would be beneficial to combine both datasets and run another model that allowed for the training on a master dataset. This would be best to do after features are revisited and explored more, as to optimize our models score.\n",
    "\n",
    "2. Cleaning up our stop words would give us a better corpus to train on. The addition of the stops words from other languages would give us different results for our eda.\n",
    "\n",
    "3. Combining an ensemble model would also be another way of improving our score. Rather than combining our datasets, our models could be combined for another score. This can be done before feature exploration or now with the models we have trained.\n",
    "\n",
    "Ultimately, our lyrics classifier and our Audio classifier are promising, but feature selection and exploration are necessary if we want this to become a reliable way to predict genres of songs."
   ]
  }
 ],
 "metadata": {
  "kernelspec": {
   "display_name": "Python [conda env:dsi]",
   "language": "python",
   "name": "conda-env-dsi-py"
  },
  "language_info": {
   "codemirror_mode": {
    "name": "ipython",
    "version": 3
   },
   "file_extension": ".py",
   "mimetype": "text/x-python",
   "name": "python",
   "nbconvert_exporter": "python",
   "pygments_lexer": "ipython3",
   "version": "3.8.8"
  }
 },
 "nbformat": 4,
 "nbformat_minor": 4
}
